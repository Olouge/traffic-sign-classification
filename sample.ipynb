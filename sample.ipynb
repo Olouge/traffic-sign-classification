{
 "cells": [
  {
   "cell_type": "code",
   "execution_count": 19,
   "metadata": {
    "collapsed": true
   },
   "outputs": [],
   "source": [
    "# imports\n",
    "%matplotlib inline\n",
    "import pickle\n",
    "import matplotlib.pyplot as plt\n",
    "import matplotlib.gridspec as gridspec\n",
    "import tensorflow as tf\n",
    "import numpy as np\n",
    "from tqdm import tqdm\n",
    "from sklearn.metrics import confusion_matrix\n",
    "import time\n",
    "from datetime import timedelta\n",
    "import math\n",
    "import random"
   ]
  },
  {
   "cell_type": "code",
   "execution_count": 20,
   "metadata": {},
   "outputs": [],
   "source": [
    "# Load pickled data\n",
    "\n",
    "# TODO: fill this in based on where you saved the training and testing data\n",
    "training_file = 'traffic-sign-data/train.p'\n",
    "testing_file = 'traffic-sign-data/test.p'\n",
    "\n",
    "with open(training_file, mode='rb') as f:\n",
    "    train = pickle.load(f)\n",
    "with open(testing_file, mode='rb') as f:\n",
    "    test = pickle.load(f)\n",
    "    \n",
    "X_train, y_train, size_train, coords_train = train['features'], train['labels'], train['sizes'], train['coords']\n",
    "X_test, y_test, size_test, coords_test = test['features'], test['labels'], test['sizes'], test['coords']"
   ]
  },
  {
   "cell_type": "code",
   "execution_count": 21,
   "metadata": {},
   "outputs": [],
   "source": [
    "# number of training examples\n",
    "n_train = len(X_train)\n",
    "\n",
    "# number of testing examples\n",
    "n_test = len(X_test)\n",
    "\n",
    "# Tuple with height and width of images used to reshape arrays.\n",
    "image_shape = X_train.shape[1:3]\n",
    "\n",
    "# how many classes are in the dataset\n",
    "n_classes = len(np.unique(y_train))\n",
    "\n",
    "img_size = image_shape[0]\n",
    "\n",
    "# Images are stored in one-dimensional arrays of this length.\n",
    "img_size_flat = img_size * img_size\n",
    "\n",
    "\n",
    "print(\"Number of training examples =\", n_train)\n",
    "print(\"Number of testing examples =\", n_test)\n",
    "print(\"img_size_flat:\", img_size_flat)\n",
    "print(\"Image data shape =\", image_shape)\n",
    "print(\"Number of classes =\", n_classes)"
   ]
  },
  {
   "cell_type": "code",
   "execution_count": 61,
   "metadata": {},
   "outputs": [],
   "source": [
    "def plot_images(images, labels, cls_pred=None):\n",
    "    fig, axes = plt.subplots(int(math.sqrt(len(images)*len(labels))), int(math.sqrt(len(images)*len(labels))))\n",
    "    fig.subplots_adjust(hspace=0.3, wspace=0.3)\n",
    "\n",
    "    for i, ax in enumerate(axes.flat):\n",
    "        # Plot image.\n",
    "        ax.imshow(images[i], cmap='binary')\n",
    "\n",
    "        # Show true and predicted classes.\n",
    "        if cls_pred is None:\n",
    "            xlabel = \"True: {0}\".format(labels[i])\n",
    "        else:\n",
    "            xlabel = \"True: {0}, Pred: {1}\".format(labels[i], cls_pred[i])\n",
    "\n",
    "        # Show the classes as the label on the x-axis.\n",
    "        ax.set_xlabel(xlabel)\n",
    "\n",
    "        # Remove ticks from the plot.\n",
    "        ax.set_xticks([])\n",
    "        ax.set_yticks([])\n",
    "\n",
    "    # Ensure the plot is shown correctly with multiple plots\n",
    "    # in a single Notebook cell.\n",
    "    plt.show()\n",
    "\n",
    "def plot_images1(images, labels):\n",
    "    sample_size = len(images)\n",
    "    n_labels = len(labels)\n",
    "    count = 0  #book keeping for plots\n",
    "    fig = plt.figure(figsize=(sample_size, n_labels))\n",
    "    grid = gridspec.GridSpec(n_labels, sample_size, wspace=0.3, hspace=0.3)\n",
    "    labelset_pbar = tqdm(range(n_labels), desc='Sample test images', unit='labels')\n",
    "    for i in labelset_pbar:\n",
    "        ind = labels == i\n",
    "        subset_x = images[ind,]  #get all images that belong to class i\n",
    "        if len(subset_x) > 0:\n",
    "            for x in range(sample_size):\n",
    "                img = random.choice(subset_x)  #randomly pick one image from class i\n",
    "                ax = plt.Subplot(fig, grid[count])\n",
    "                ax.set_xticks([])\n",
    "                ax.set_yticks([])\n",
    "                ax.imshow(img, cmap='gray')\n",
    "                fig.add_subplot(ax)\n",
    "                count += 1\n",
    "\n",
    "            # hide the borders\n",
    "            if i == (n_labels - 1):\n",
    "                all_axes = fig.get_axes()\n",
    "                for ax in all_axes:\n",
    "                    for sp in ax.spines.values():\n",
    "                        sp.set_visible(False)"
   ]
  },
  {
   "cell_type": "code",
   "execution_count": 60,
   "metadata": {},
   "outputs": [],
   "source": [
    "# Get the first images from the test-set.\n",
    "images = X_test#[0:16]\n",
    "\n",
    "# Get the true classes for those images.\n",
    "y_true = y_test#[0:16]\n",
    "\n",
    "print(int(math.sqrt(len(images)*len(y_true))))\n",
    "\n",
    "# Plot the images and labels using our helper-function above.\n",
    "#plot_images(images=images, labels=y_true)"
   ]
  },
  {
   "cell_type": "code",
   "execution_count": null,
   "metadata": {},
   "outputs": [],
   "source": [
    ""
   ]
  },
  {
   "cell_type": "code",
   "execution_count": null,
   "metadata": {},
   "outputs": [],
   "source": [
    ""
   ]
  }
 ],
 "metadata": {
  "kernelspec": {
   "display_name": "Python 2",
   "language": "python",
   "name": "python2"
  },
  "language_info": {
   "codemirror_mode": {
    "name": "ipython",
    "version": 2.0
   },
   "file_extension": ".py",
   "mimetype": "text/x-python",
   "name": "python",
   "nbconvert_exporter": "python",
   "pygments_lexer": "ipython2",
   "version": "2.7.6"
  }
 },
 "nbformat": 4,
 "nbformat_minor": 0
}