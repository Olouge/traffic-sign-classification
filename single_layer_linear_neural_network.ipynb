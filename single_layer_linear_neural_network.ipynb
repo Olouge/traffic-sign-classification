{
 "cells": [
  {
   "cell_type": "markdown",
   "metadata": {},
   "source": [
    "# Self-Driving Car Engineer Nanodegree\n",
    "\n",
    "## Deep Learning\n",
    "\n",
    "## Project: Build a Traffic Sign Recognition Classifier\n",
    "\n",
    "In this notebook, a template is provided for you to implement your functionality in stages which is required to successfully complete this project. If additional code is required that cannot be included in the notebook, be sure that the Python code is successfully imported and included in your submission, if necessary. Sections that begin with **'Implementation'** in the header indicate where you should begin your implementation for your project. Note that some sections of implementation are optional, and will be marked with **'Optional'** in the header.\n",
    "\n",
    "In addition to implementing code, there will be questions that you must answer which relate to the project and your implementation. Each section where you will answer a question is preceded by a **'Question'** header. Carefully read each question and provide thorough answers in the following text boxes that begin with **'Answer:'**. Your project submission will be evaluated based on your answers to each of the questions and the implementation you provide.\n",
    "\n",
    ">**Note:** Code and Markdown cells can be executed using the **Shift + Enter** keyboard shortcut. In addition, Markdown cells can be edited by typically double-clicking the cell to enter edit mode."
   ]
  },
  {
   "cell_type": "markdown",
   "metadata": {},
   "source": [
    "---\n",
    "\n",
    "## Step 1: Dataset Exploration\n",
    "\n",
    "Visualize the German Traffic Signs Dataset. This is open ended, some suggestions include: plotting traffic signs images, plotting the count of each sign, etc. Be creative!\n",
    "\n",
    "\n",
    "The pickled data is a dictionary with 4 key/value pairs:\n",
    "\n",
    "- features -> the images pixel values, (width, height, channels)\n",
    "- labels -> the label of the traffic sign\n",
    "- sizes -> the original width and height of the image, (width, height)\n",
    "- coords -> coordinates of a bounding box around the sign in the image, (x1, y1, x2, y2). Based the original image (not the resized version)."
   ]
  },
  {
   "cell_type": "code",
   "execution_count": 1,
   "metadata": {
    "collapsed": true
   },
   "outputs": [],
   "source": [
    "# Load pickled data\n",
    "import pickle\n",
    "\n",
    "# TODO: fill this in based on where you saved the training and testing data\n",
    "training_file = 'traffic-sign-data/train.p'\n",
    "testing_file = 'traffic-sign-data/test.p'\n",
    "\n",
    "with open(training_file, mode='rb') as f:\n",
    "    train = pickle.load(f)\n",
    "with open(testing_file, mode='rb') as f:\n",
    "    test = pickle.load(f)\n",
    "    \n",
    "X_train, y_train = train['features'], train['labels']\n",
    "X_test, y_test = test['features'], test['labels']"
   ]
  },
  {
   "cell_type": "code",
   "execution_count": 2,
   "metadata": {
    "collapsed": false
   },
   "outputs": [
    {
     "name": "stdout",
     "output_type": "stream",
     "text": [
      "Number of training examples = 39209\n",
      "Number of testing examples = 12630\n",
      "Image data shape = (32, 32, 3)\n",
      "Number of classes = 43\n"
     ]
    }
   ],
   "source": [
    "import numpy as np\n",
    "\n",
    "### To start off let's do a basic data summary.\n",
    "\n",
    "# TODO: number of training examples\n",
    "n_train = len(X_train)\n",
    "\n",
    "# TODO: number of testing examples\n",
    "n_test = len(X_test)\n",
    "\n",
    "# TODO: what's the shape of an image?\n",
    "image_shape = X_train[0].shape\n",
    "\n",
    "# TODO: how many classes are in the dataset\n",
    "n_classes = len(np.unique(y_train))\n",
    "\n",
    "print(\"Number of training examples =\", n_train)\n",
    "print(\"Number of testing examples =\", n_test)\n",
    "print(\"Image data shape =\", image_shape)\n",
    "print(\"Number of classes =\", n_classes)"
   ]
  },
  {
   "cell_type": "code",
   "execution_count": 3,
   "metadata": {
    "collapsed": true
   },
   "outputs": [],
   "source": [
    "### Data exploration visualization goes here.\n",
    "### Feel free to use as many code cells as needed."
   ]
  },
  {
   "cell_type": "markdown",
   "metadata": {},
   "source": [
    "To make things easy when visualizing the traffic signs, let's first print the traffic sign names"
   ]
  },
  {
   "cell_type": "code",
   "execution_count": 4,
   "metadata": {
    "collapsed": false
   },
   "outputs": [
    {
     "name": "stdout",
     "output_type": "stream",
     "text": [
      "Traffic Sign Names:\n",
      "\n",
      "  0 - Speed limit (20km/h)\n",
      "  1 - Speed limit (30km/h)\n",
      "  2 - Speed limit (50km/h)\n",
      "  3 - Speed limit (60km/h)\n",
      "  4 - Speed limit (70km/h)\n",
      "  5 - Speed limit (80km/h)\n",
      "  6 - End of speed limit (80km/h)\n",
      "  7 - Speed limit (100km/h)\n",
      "  8 - Speed limit (120km/h)\n",
      "  9 - No passing\n",
      "  10 - No passing for vechiles over 3.5 metric tons\n",
      "  11 - Right-of-way at the next intersection\n",
      "  12 - Priority road\n",
      "  13 - Yield\n",
      "  14 - Stop\n",
      "  15 - No vechiles\n",
      "  16 - Vechiles over 3.5 metric tons prohibited\n",
      "  17 - No entry\n",
      "  18 - General caution\n",
      "  19 - Dangerous curve to the left\n",
      "  20 - Dangerous curve to the right\n",
      "  21 - Double curve\n",
      "  22 - Bumpy road\n",
      "  23 - Slippery road\n",
      "  24 - Road narrows on the right\n",
      "  25 - Road work\n",
      "  26 - Traffic signals\n",
      "  27 - Pedestrians\n",
      "  28 - Children crossing\n",
      "  29 - Bicycles crossing\n",
      "  30 - Beware of ice/snow\n",
      "  31 - Wild animals crossing\n",
      "  32 - End of all speed and passing limits\n",
      "  33 - Turn right ahead\n",
      "  34 - Turn left ahead\n",
      "  35 - Ahead only\n",
      "  36 - Go straight or right\n",
      "  37 - Go straight or left\n",
      "  38 - Keep right\n",
      "  39 - Keep left\n",
      "  40 - Roundabout mandatory\n",
      "  41 - End of no passing\n",
      "  42 - End of no passing by vechiles over 3.5 metric tons\n"
     ]
    }
   ],
   "source": [
    "from datasets.german_traffic_signs import GermanTrafficSignDataset\n",
    "\n",
    "# NOTE I explain these two lines in greater details below\n",
    "data = GermanTrafficSignDataset()\n",
    "data.configure(one_hot=False, train_validate_split_percentage=0.05)\n",
    "\n",
    "print('Traffic Sign Names:')\n",
    "print('')\n",
    "for k, v in data.sign_names_map.items():\n",
    "    print('  {} - {}'.format(k, v))"
   ]
  },
  {
   "cell_type": "markdown",
   "metadata": {},
   "source": [
    "### Traffic Sign Visualizations"
   ]
  },
  {
   "cell_type": "markdown",
   "metadata": {},
   "source": [
    "##### Training Set"
   ]
  },
  {
   "cell_type": "code",
   "execution_count": 5,
   "metadata": {
    "collapsed": false
   },
   "outputs": [
    {
     "ename": "IndexError",
     "evalue": "index 31802 is out of bounds for axis 1 with size 0",
     "output_type": "error",
     "traceback": [
      "\u001b[0;31m---------------------------------------------------------------------------\u001b[0m",
      "\u001b[0;31mIndexError\u001b[0m                                Traceback (most recent call last)",
      "\u001b[0;32m<ipython-input-5-fd9a0871fb68>\u001b[0m in \u001b[0;36m<module>\u001b[0;34m()\u001b[0m\n\u001b[1;32m      3\u001b[0m \u001b[0mperm\u001b[0m \u001b[0;34m=\u001b[0m \u001b[0mnp\u001b[0m\u001b[0;34m.\u001b[0m\u001b[0marange\u001b[0m\u001b[0;34m(\u001b[0m\u001b[0mdata\u001b[0m\u001b[0;34m.\u001b[0m\u001b[0mnum_training\u001b[0m\u001b[0;34m)\u001b[0m\u001b[0;34m\u001b[0m\u001b[0m\n\u001b[1;32m      4\u001b[0m \u001b[0mnp\u001b[0m\u001b[0;34m.\u001b[0m\u001b[0mrandom\u001b[0m\u001b[0;34m.\u001b[0m\u001b[0mshuffle\u001b[0m\u001b[0;34m(\u001b[0m\u001b[0mperm\u001b[0m\u001b[0;34m)\u001b[0m\u001b[0;34m\u001b[0m\u001b[0m\n\u001b[0;32m----> 5\u001b[0;31m \u001b[0mImagePlotter\u001b[0m\u001b[0;34m.\u001b[0m\u001b[0mplot_images\u001b[0m\u001b[0;34m(\u001b[0m\u001b[0mimages\u001b[0m\u001b[0;34m=\u001b[0m\u001b[0mdata\u001b[0m\u001b[0;34m.\u001b[0m\u001b[0mtrain_orig\u001b[0m\u001b[0;34m[\u001b[0m\u001b[0mperm\u001b[0m\u001b[0;34m]\u001b[0m\u001b[0;34m,\u001b[0m \u001b[0mlabels\u001b[0m\u001b[0;34m=\u001b[0m\u001b[0mdata\u001b[0m\u001b[0;34m.\u001b[0m\u001b[0mtrain_labels\u001b[0m\u001b[0;34m[\u001b[0m\u001b[0mperm\u001b[0m\u001b[0;34m]\u001b[0m\u001b[0;34m,\u001b[0m \u001b[0mrows\u001b[0m\u001b[0;34m=\u001b[0m\u001b[0;36m5\u001b[0m\u001b[0;34m,\u001b[0m \u001b[0mcolumns\u001b[0m\u001b[0;34m=\u001b[0m\u001b[0;36m5\u001b[0m\u001b[0;34m)\u001b[0m\u001b[0;34m\u001b[0m\u001b[0m\n\u001b[0m",
      "\u001b[0;31mIndexError\u001b[0m: index 31802 is out of bounds for axis 1 with size 0"
     ]
    }
   ],
   "source": [
    "from plot.image_plotter import ImagePlotter\n",
    "\n",
    "perm = np.arange(data.num_training)\n",
    "np.random.shuffle(perm)\n",
    "ImagePlotter.plot_images(images=data.train_orig[perm], labels=data.train_labels[perm], rows=5, columns=5)"
   ]
  },
  {
   "cell_type": "markdown",
   "metadata": {},
   "source": [
    "##### Validation Set"
   ]
  },
  {
   "cell_type": "code",
   "execution_count": null,
   "metadata": {
    "collapsed": false
   },
   "outputs": [],
   "source": [
    "from plot.image_plotter import ImagePlotter\n",
    "\n",
    "perm = np.arange(data.num_validation)\n",
    "np.random.shuffle(perm)\n",
    "ImagePlotter.plot_images(images=data.validate_orig[perm], labels=data.validate_labels[perm], rows=5, columns=5)"
   ]
  },
  {
   "cell_type": "markdown",
   "metadata": {},
   "source": [
    "##### Testing Set"
   ]
  },
  {
   "cell_type": "code",
   "execution_count": null,
   "metadata": {
    "collapsed": false
   },
   "outputs": [],
   "source": [
    "from plot.image_plotter import ImagePlotter\n",
    "\n",
    "perm = np.arange(data.num_testing)\n",
    "np.random.shuffle(perm)\n",
    "ImagePlotter.plot_images(images=data.test_orig[perm], labels=data.test_labels[perm], rows=5, columns=5)"
   ]
  },
  {
   "cell_type": "markdown",
   "metadata": {},
   "source": [
    "##### My Prediction Set"
   ]
  },
  {
   "cell_type": "code",
   "execution_count": null,
   "metadata": {
    "collapsed": false
   },
   "outputs": [],
   "source": [
    "from plot.image_plotter import ImagePlotter\n",
    "\n",
    "perm = np.arange(data.num_predicting)\n",
    "np.random.shuffle(perm)\n",
    "ImagePlotter.plot_images(images=data.predict_orig[perm], labels=data.predict_labels[perm], rows=5, columns=5)"
   ]
  },
  {
   "cell_type": "markdown",
   "metadata": {},
   "source": [
    "----\n",
    "\n",
    "## Step 2: Design and Test a Model Architecture\n",
    "\n",
    "Design and implement a deep learning model that learns to recognize traffic signs. Train and test your model on the [German Traffic Sign Dataset](http://benchmark.ini.rub.de/?section=gtsrb&subsection=dataset).\n",
    "\n",
    "There are various aspects to consider when thinking about this problem:\n",
    "\n",
    "- Your model can be derived from a deep feedforward net or a deep convolutional network.\n",
    "- Play around preprocessing techniques (normalization, rgb to grayscale, etc)\n",
    "- Number of examples per label (some have more than others).\n",
    "- Generate fake data.\n",
    "\n",
    "Here is an example of a [published baseline model on this problem](http://yann.lecun.com/exdb/publis/pdf/sermanet-ijcnn-11.pdf). It's not required to be familiar with the approach used in the paper but, it's good practice to try to read papers like these."
   ]
  },
  {
   "cell_type": "markdown",
   "metadata": {},
   "source": [
    "### Implementation\n",
    "\n",
    "Use the code cell (or multiple code cells, if necessary) to implement the first step of your project. Once you have completed your implementation and are satisfied with the results, be sure to thoroughly answer the questions that follow."
   ]
  },
  {
   "cell_type": "markdown",
   "metadata": {},
   "source": [
    "### Dataset preparation\n",
    "\n",
    "First, let's construct a fresh German Traffic Sign dataset. Nothing fancy goes on here but things are about to get awesome really quickly. Stay tuned!"
   ]
  },
  {
   "cell_type": "code",
   "execution_count": null,
   "metadata": {
    "collapsed": true
   },
   "outputs": [],
   "source": [
    "from datasets.german_traffic_signs import GermanTrafficSignDataset\n",
    "\n",
    "data = GermanTrafficSignDataset()"
   ]
  },
  {
   "cell_type": "markdown",
   "metadata": {},
   "source": [
    "Next, let's configure the dataset. We're going to ask it to set aside 20% of the training dataset for validation purposes when we're training our model. We're also going to ask it to One-Hot Encode the training, validation and test labels so we don't have to do any work later on.\n",
    "\n",
    ">In code, you'll notice immediately some logs are printed informing us about what it's doing during the configuration process."
   ]
  },
  {
   "cell_type": "code",
   "execution_count": null,
   "metadata": {
    "collapsed": false
   },
   "outputs": [],
   "source": [
    "# Configure the dataset\n",
    "data.configure(one_hot=True, train_validate_split_percentage=0.20)"
   ]
  },
  {
   "cell_type": "markdown",
   "metadata": {},
   "source": [
    "### GermanTrafficSignDataset Code Review\n",
    "\n",
    ">I encourage you to take a look at the code that went into preprocessing the dataset for network training. Here are some links directly to the code in github, line for line.\n",
    "\n",
    "\n",
    "###### #configure\n",
    "\n",
    "[data.configure(one_hot=True, train_validate_split_percentage=0.20)](https://github.com/matthewzimmer/traffic-sign-classification/blob/426c2467a1405ba6ba12c474ccd459f72d392c20/datasets/german_traffic_signs.py#L43-L92 \"data.configure(one_hot=True, train_validate_split_percentage=0.20)\")\n",
    "\n",
    "\n",
    "\n",
    "**NOTE:** The following methods are invoked by #configure in sequential order.\n",
    "\n",
    "###### #__load_data\n",
    "\n",
    "_Loads in train features and labels and test features and labels from their respective pickle file_\n",
    "\n",
    "[data.__load_data](https://github.com/matthewzimmer/traffic-sign-classification/blob/426c2467a1405ba6ba12c474ccd459f72d392c20/datasets/german_traffic_signs.py#L233-L252 \"data.__load_data\")\n",
    "\n",
    "\n",
    "###### #__split_train_and_validation\n",
    "\n",
    "_Constructs randomized datasets for training and validation_\n",
    "\n",
    "[data.__split_train_and_validation](https://github.com/matthewzimmer/traffic-sign-classification/blob/426c2467a1405ba6ba12c474ccd459f72d392c20/datasets/german_traffic_signs.py#L254-L267 \"data.__split_train_and_validation\")\n",
    "\n",
    "\n",
    "###### #__compute_metrics\n",
    "\n",
    "[data.__compute_metrics](https://github.com/matthewzimmer/traffic-sign-classification/blob/426c2467a1405ba6ba12c474ccd459f72d392c20/datasets/german_traffic_signs.py#L269-L276 \"data.__compute_metrics\")\n",
    "\n",
    "\n",
    "\n",
    "###### #__prepare_images\n",
    "\n",
    "_Prepares the images for training, validation, testing and visualization._\n",
    "\n",
    "[data.__prepare_images](https://github.com/matthewzimmer/traffic-sign-classification/blob/6a82b24a7f262501bf8b1aac832d0f0c18fe5f79/datasets/german_traffic_signs.py#L278-L355 \"data.__prepare_images\")\n",
    "\n",
    "\n",
    "\n",
    "###### #__one_hot_encode_labels\n",
    "\n",
    "_When one-hot encoding is enabled, the train, validate and test labels are one-hot encoded using LabelBinarizer._\n",
    "\n",
    "[data.__one_hot_encode_labels](https://github.com/matthewzimmer/traffic-sign-classification/blob/c0527a4801c5efc6a351b747b8f544277f30f9eb/datasets/german_traffic_signs.py#L357-L381 \"data.__one_hot_encode_labels\")"
   ]
  },
  {
   "cell_type": "markdown",
   "metadata": {},
   "source": [
    "##### Network Walkthrough"
   ]
  },
  {
   "cell_type": "markdown",
   "metadata": {},
   "source": [
    "Let's define our hyper parameters in advance. We will be feeding this into the network's configuration context later."
   ]
  },
  {
   "cell_type": "markdown",
   "metadata": {
    "collapsed": false
   },
   "source": [
    "```python\n",
    "from classifiers.base_neural_network import HyperParametersContext\n",
    "\n",
    "hyper_parameters = HyperParametersContext(\n",
    "    start_learning_rate=0.2, \n",
    "    epochs=10, \n",
    "    batch_size=20, \n",
    "    required_accuracy_improvement=50\n",
    ")\n",
    "```"
   ]
  },
  {
   "cell_type": "markdown",
   "metadata": {},
   "source": [
    "An instance of ConfigurationContext holds a reference to our GermanTrafficSignDataset instance variable and our HyperParametersContext instance variable.\n",
    "\n",
    ">This object is required by all _BaseNeuralNetwork_ implementations."
   ]
  },
  {
   "cell_type": "markdown",
   "metadata": {
    "collapsed": true
   },
   "source": [
    "```python\n",
    "from classifiers.base_neural_network import ConfigurationContext\n",
    "\n",
    "config = ConfigurationContext(data, hyper_parameters)\n",
    "```"
   ]
  },
  {
   "cell_type": "markdown",
   "metadata": {},
   "source": [
    "First thing's first, let's instantiate the SingleLayerLinear neural network class."
   ]
  },
  {
   "cell_type": "markdown",
   "metadata": {
    "collapsed": false
   },
   "source": [
    "```python\n",
    "from classifiers.linear.single_layer_linear import SingleLayerLinear\n",
    "\n",
    "simple_nn = SingleLayerLinear()```"
   ]
  },
  {
   "cell_type": "markdown",
   "metadata": {},
   "source": [
    "Next, let's configure our network passin in our ConfigurationContext instance variable we instantiated above.\n",
    "\n",
    "This is the principle entry point into all _BaseNeuralNetwork_ implementations. The network will not function without a proper configuration context."
   ]
  },
  {
   "cell_type": "markdown",
   "metadata": {
    "collapsed": false
   },
   "source": [
    "```python\n",
    "simple_nn.configure(config)```"
   ]
  },
  {
   "cell_type": "markdown",
   "metadata": {},
   "source": [
    "That was easy! Almost too easy, really. What's actually going on there?"
   ]
  },
  {
   "cell_type": "markdown",
   "metadata": {},
   "source": [
    "### Question 1 \n",
    "\n",
    "_Describe the techniques used to preprocess the data._"
   ]
  },
  {
   "cell_type": "markdown",
   "metadata": {},
   "source": [
    "**Answer:**"
   ]
  },
  {
   "cell_type": "markdown",
   "metadata": {},
   "source": [
    "Let's print the documentation for the GermanTrafficSignDataset#configure method to uncover the magic and reveal the tecniques I used to preprocess the data."
   ]
  },
  {
   "cell_type": "code",
   "execution_count": null,
   "metadata": {
    "collapsed": false
   },
   "outputs": [],
   "source": [
    "from IPython.display import Image, display\n",
    "from IPython.core.display import HTML \n",
    "display(Image(url= \"doc/GermanTrafficSignDataset_configure_docs.png\"))"
   ]
  },
  {
   "cell_type": "markdown",
   "metadata": {},
   "source": [
    "### Question 2\n",
    "\n",
    "_Describe how you set up the training, validation and testing data for your model. If you generated additional data, why?_"
   ]
  },
  {
   "cell_type": "markdown",
   "metadata": {},
   "source": [
    "**Answer:**\n",
    "\n",
    "Inside of [data.__split_train_and_validation](https://github.com/matthewzimmer/traffic-sign-classification/blob/426c2467a1405ba6ba12c474ccd459f72d392c20/datasets/german_traffic_signs.py#L254-L267 \"data.__split_train_and_validation\") I leverage SKLearn's [train_test_split](http://scikit-learn.org/stable/modules/generated/sklearn.model_selection.train_test_split.html) convenience method. It's great because it automatically randomizes the validation set based on a predetermined percentage. I chose the traditional 80/20 split out of habit and felt that if I achieved a high accuracy with 80% of the training data, this should generalize well enough to the other 20% as well as the testing set. \n",
    "\n",
    ">**NOTE:** I'm using a fixed random_state number so my testing is relatively predictable and consistent across runs."
   ]
  },
  {
   "cell_type": "markdown",
   "metadata": {},
   "source": [
    "```python\n",
    "def __split_train_and_validation(self):\n",
    "    \"\"\"\n",
    "    Get randomized datasets for training and validation\n",
    "    \"\"\"\n",
    "\n",
    "    self.train_orig, self.validate_orig, self.train_labels, self.validate_labels = train_test_split(\n",
    "        self.train_orig,\n",
    "        self.train_labels,\n",
    "        test_size=self.split_size,\n",
    "        random_state=832224)\n",
    "\n",
    "    print(\n",
    "        'Training features and labels randomized and split with train_test_split (validation % of training set: {})'.format(\n",
    "            self.split_size))\n",
    "```"
   ]
  },
  {
   "cell_type": "markdown",
   "metadata": {},
   "source": [
    "You can also see it hithub [here](https://github.com/matthewzimmer/traffic-sign-classification/blob/7e241e3289a6792cb6ebf2ff051995cdbbd0bdae/datasets/german_traffic_signs.py#L254-L267 \"here\")."
   ]
  },
  {
   "cell_type": "markdown",
   "metadata": {},
   "source": [
    "The second phase of splitting my data may be discovered inside of [data.__prepare_images](https://github.com/matthewzimmer/traffic-sign-classification/blob/7e241e3289a6792cb6ebf2ff051995cdbbd0bdae/datasets/german_traffic_signs.py#L278-L355)."
   ]
  },
  {
   "cell_type": "code",
   "execution_count": null,
   "metadata": {
    "collapsed": false
   },
   "outputs": [],
   "source": [
    "from IPython.display import Image, display\n",
    "from IPython.core.display import HTML \n",
    "display(Image(url= \"doc/GermanTrafficSignDataset___prepare_images_docs.png\"))"
   ]
  },
  {
   "cell_type": "markdown",
   "metadata": {},
   "source": [
    "Finally, let's print our instance of GermanTrafficSignDataset. It reveals a ton of information about the contents of the **data** variable such as the number and shape of items in each bucket and the traffic sign names corresponding to each label."
   ]
  },
  {
   "cell_type": "code",
   "execution_count": null,
   "metadata": {
    "collapsed": false
   },
   "outputs": [],
   "source": [
    "print(data)"
   ]
  },
  {
   "cell_type": "markdown",
   "metadata": {},
   "source": [
    "### Question 3\n",
    "\n",
    "_What does your final architecture look like? (Type of model, layers, sizes, connectivity, etc.)  For reference on how to build a deep neural network using TensorFlow, see [Deep Neural Network in TensorFlow\n",
    "](https://classroom.udacity.com/nanodegrees/nd013/parts/fbf77062-5703-404e-b60c-95b78b2f3f9e/modules/6df7ae49-c61c-4bb2-a23e-6527e69209ec/lessons/b516a270-8600-4f93-a0a3-20dfeabe5da6/concepts/83a3a2a2-a9bd-4b7b-95b0-eb924ab14432) from the classroom._\n"
   ]
  },
  {
   "cell_type": "markdown",
   "metadata": {},
   "source": [
    "**Answer:**"
   ]
  },
  {
   "cell_type": "markdown",
   "metadata": {},
   "source": [
    "### Single Layer Linear Neural Network\n",
    "##### Abstract\n",
    "\n",
    "The very first network I put together was a single layer linear neural network inspired by the first \n",
    "TensorFlow lab we did in class. It allowed me to familiarize myself with Python, Numpy, Matplotlib \n",
    "and TensorFlow.\n",
    "\n",
    "This network implementation achieved a **90.94% validation accuracy** from 20% of the training set data.\n",
    "\n",
    "> **NOTE** I've never coded in Python until now so it took me longer than desired but I am satisfied with my first attempt."
   ]
  },
  {
   "cell_type": "markdown",
   "metadata": {},
   "source": [
    "You can also see it in github [here](https://github.com/matthewzimmer/traffic-sign-classification/blob/c0527a4801c5efc6a351b747b8f544277f30f9eb/classifiers/linear/single_layer_linear.py \"here\")."
   ]
  },
  {
   "cell_type": "markdown",
   "metadata": {},
   "source": [
    "##### SingleLayerLinear Class Definition"
   ]
  },
  {
   "cell_type": "markdown",
   "metadata": {},
   "source": [
    "```python\n",
    "import tensorflow as tf\n",
    "import numpy as np\n",
    "import math\n",
    "import os\n",
    "\n",
    "from classifiers.base_neural_network import BaseNeuralNetwork\n",
    "\n",
    "\n",
    "class SingleLayerLinear(BaseNeuralNetwork):\n",
    "    def fit(self):\n",
    "        data = self.config.data\n",
    "        hyper_parameters = self.config.hyper_parameters\n",
    "\n",
    "        image_size = data.train_flat.shape[1]\n",
    "        num_classes = data.num_classes\n",
    "        num_training = data.num_training\n",
    "\n",
    "        # Passing global_step to minimize() will increment it at each step.\n",
    "        global_step = tf.Variable(0, trainable=False)\n",
    "        initial_learning_rate = hyper_parameters.start_learning_rate\n",
    "        learning_rate = tf.train.exponential_decay(initial_learning_rate, global_step, 20000, 0.96, staircase=True)\n",
    "\n",
    "        training_epochs = hyper_parameters.epochs\n",
    "        batch_size = hyper_parameters.batch_size\n",
    "        batch_count = int(math.ceil(num_training / batch_size))\n",
    "        display_step = 1\n",
    "\n",
    "        n_hidden_layer = 256  # layer number of features\n",
    "\n",
    "        # Store layers weight & bias\n",
    "        weights = {\n",
    "            'hidden_layer': tf.Variable(tf.random_normal([image_size, n_hidden_layer])),\n",
    "            'out': tf.Variable(tf.random_normal([n_hidden_layer, num_classes]))\n",
    "        }\n",
    "        biases = {\n",
    "            'hidden_layer': tf.Variable(tf.random_normal([n_hidden_layer])),\n",
    "            'out': tf.Variable(tf.random_normal([num_classes]))\n",
    "        }\n",
    "\n",
    "        # tf Graph input\n",
    "        features = tf.placeholder(\"float\", [None, image_size])\n",
    "        labels = tf.placeholder(\"float\", [None, num_classes])\n",
    "\n",
    "        # Feed dicts for training, validation, and test session\n",
    "        train_feed_dict = {features: data.train_flat, labels: data.train_labels}\n",
    "        valid_feed_dict = {features: data.validate_flat, labels: data.validate_labels}\n",
    "        test_feed_dict = {features: data.test_flat, labels: data.test_labels}\n",
    "\n",
    "        # Hidden layer with RELU activation\n",
    "        layer_1 = tf.add(tf.matmul(features, weights['hidden_layer']), biases['hidden_layer'])\n",
    "        layer_1 = tf.nn.relu(layer_1)\n",
    "\n",
    "        # Output layer with linear activation\n",
    "        logits = tf.matmul(layer_1, weights['out']) + biases['out']\n",
    "\n",
    "        # Define loss and optimizer\n",
    "        cost = tf.reduce_mean(tf.nn.softmax_cross_entropy_with_logits(logits, labels))\n",
    "        optimizer = tf.train.GradientDescentOptimizer(learning_rate=learning_rate).minimize(cost,\n",
    "                                                                                            global_step=global_step)\n",
    "\n",
    "        init = tf.initialize_all_variables()\n",
    "\n",
    "        with tf.Session() as sess:\n",
    "            sess.run(init)\n",
    "            for epoch in range(training_epochs):\n",
    "                for i in range(batch_count):\n",
    "                    x_batch, y_batch, batch_start, batch_end = data.next_batch(batch_size)\n",
    "                    batch_feed_dict = {features: x_batch, labels: y_batch}\n",
    "                    sess.run(optimizer, feed_dict=batch_feed_dict)\n",
    "\n",
    "                # Display logs per epoch step and very last batch iteration\n",
    "                if epoch % display_step == 0 or (epoch == (training_epochs - 1) and i == (batch_count - 1)):\n",
    "                    total_iterations = (epoch + 1)\n",
    "\n",
    "                    self.config.hyper_parameters.end_learning_rate = sess.run(learning_rate)\n",
    "                    self.cost = sess.run(cost, feed_dict=valid_feed_dict)\n",
    "\n",
    "                    # Calculate accuracy\n",
    "                    correct_prediction = tf.equal(tf.argmax(logits, 1), tf.argmax(labels, 1))\n",
    "                    accuracy = tf.reduce_mean(tf.cast(correct_prediction, \"float\"))\n",
    "\n",
    "                    # store accuracies\n",
    "                    self.train_accuracy = accuracy.eval(train_feed_dict)\n",
    "                    self.validate_accuracy = accuracy.eval(valid_feed_dict)\n",
    "                    self.test_accuracy = accuracy.eval(test_feed_dict)\n",
    "\n",
    "                    # store predictions\n",
    "                    self.train_predictions = tf.cast(correct_prediction.eval(train_feed_dict), \"float\").eval()\n",
    "                    self.test_predictions = tf.cast(correct_prediction.eval(test_feed_dict), \"float\").eval()\n",
    "                    self.validate_predictions = tf.cast(correct_prediction.eval(valid_feed_dict), \"float\").eval()\n",
    "\n",
    "                    saved = self.evaluate_accuracy(sess, accuracy.eval(valid_feed_dict), total_iterations)\n",
    "                    if saved == True:\n",
    "                        # store the final results for later analysis\n",
    "                        self.weights = {\n",
    "                            'hidden_layer': weights['hidden_layer'].eval(),\n",
    "                            'out': weights['out'].eval()\n",
    "                        }\n",
    "                        self.biases = {\n",
    "                            'hidden_layer': biases['hidden_layer'].eval(),\n",
    "                            'out': biases['out'].eval()\n",
    "                        }\n",
    "\n",
    "                if total_iterations - self.last_improvement > hyper_parameters.required_accuracy_improvement:\n",
    "                    msg = 'No improvement found in a while, stopping optimization after {} iterations. Final accuracy, {} percent at iteration {}.'.format(\n",
    "                        total_iterations, str(int(self.validate_accuracy * 100)), self.last_improvement)\n",
    "\n",
    "                    print(msg)\n",
    "\n",
    "                    break\n",
    "```"
   ]
  },
  {
   "cell_type": "markdown",
   "metadata": {},
   "source": [
    "#### Train the model"
   ]
  },
  {
   "cell_type": "markdown",
   "metadata": {
    "collapsed": false
   },
   "source": [
    "```python\n",
    "from datasets.german_traffic_signs import GermanTrafficSignDataset\n",
    "\n",
    "data = GermanTrafficSignDataset()\n",
    "\n",
    "# Configure the dataset\n",
    "data.configure(one_hot=True, train_validate_split_percentage=0.20)\n",
    "```"
   ]
  },
  {
   "cell_type": "code",
   "execution_count": null,
   "metadata": {
    "collapsed": false
   },
   "outputs": [],
   "source": [
    "from classifiers.linear.single_layer_linear import SingleLayerHyperParametersContext\n",
    "\n",
    "hyper_parameters = SingleLayerHyperParametersContext(\n",
    "    hidden_layer_neuron_count=517, # mean of input and output neurons\n",
    "    start_learning_rate=0.2, \n",
    "    epochs=500, \n",
    "    batch_size=20, \n",
    "    required_accuracy_improvement=50\n",
    ")"
   ]
  },
  {
   "cell_type": "code",
   "execution_count": null,
   "metadata": {
    "collapsed": true
   },
   "outputs": [],
   "source": [
    "from classifiers.base_neural_network import ConfigurationContext\n",
    "\n",
    "config = ConfigurationContext(data, hyper_parameters)"
   ]
  },
  {
   "cell_type": "code",
   "execution_count": null,
   "metadata": {
    "collapsed": false
   },
   "outputs": [],
   "source": [
    "from classifiers.linear.single_layer_linear import SingleLayerLinear\n",
    "\n",
    "simple_nn = SingleLayerLinear()\n",
    "simple_nn.configure(config)"
   ]
  },
  {
   "cell_type": "markdown",
   "metadata": {},
   "source": [
    "Uncomment the next line to train the network on your machine. \n",
    "\n",
    ">You may want to tune the HyperParametersContext arguments above depending on your computer hardware."
   ]
  },
  {
   "cell_type": "code",
   "execution_count": null,
   "metadata": {
    "collapsed": false
   },
   "outputs": [],
   "source": [
    "# simple_nn.generate()"
   ]
  },
  {
   "cell_type": "markdown",
   "metadata": {},
   "source": [
    "### Question 4\n",
    "\n",
    "_How did you train your model? (Type of optimizer, batch size, epochs, hyperparameters, etc.)_\n"
   ]
  },
  {
   "cell_type": "markdown",
   "metadata": {},
   "source": [
    "**Answer:**"
   ]
  },
  {
   "cell_type": "markdown",
   "metadata": {},
   "source": [
    "### Question 5\n",
    "\n",
    "\n",
    "_What approach did you take in coming up with a solution to this problem?_"
   ]
  },
  {
   "cell_type": "markdown",
   "metadata": {},
   "source": [
    "**Answer:**"
   ]
  },
  {
   "cell_type": "markdown",
   "metadata": {},
   "source": [
    "---\n",
    "\n",
    "## Step 3: Test a Model on New Images\n",
    "\n",
    "Take several pictures of traffic signs that you find on the web or around you (at least five), and run them through your classifier on your computer to produce example results. The classifier might not recognize some local signs but it could prove interesting nonetheless.\n",
    "\n",
    "You may find `signnames.csv` useful as it contains mappings from the class id (integer) to the actual sign name."
   ]
  },
  {
   "cell_type": "markdown",
   "metadata": {},
   "source": [
    "### Implementation\n",
    "\n",
    "Use the code cell (or multiple code cells, if necessary) to implement the first step of your project. Once you have completed your implementation and are satisfied with the results, be sure to thoroughly answer the questions that follow."
   ]
  },
  {
   "cell_type": "code",
   "execution_count": null,
   "metadata": {
    "collapsed": true
   },
   "outputs": [],
   "source": [
    "### Load the images and plot them here.\n",
    "### Feel free to use as many code cells as needed."
   ]
  },
  {
   "cell_type": "markdown",
   "metadata": {},
   "source": [
    "### Question 6\n",
    "\n",
    "_Choose five candidate images of traffic signs and provide them in the report. Are there any particular qualities of the image(s) that might make classification difficult? It would be helpful to plot the images in the notebook._\n",
    "\n"
   ]
  },
  {
   "cell_type": "markdown",
   "metadata": {},
   "source": [
    "**Answer:**"
   ]
  },
  {
   "cell_type": "code",
   "execution_count": null,
   "metadata": {
    "collapsed": true
   },
   "outputs": [],
   "source": [
    "### Run the predictions here.\n",
    "### Feel free to use as many code cells as needed."
   ]
  },
  {
   "cell_type": "markdown",
   "metadata": {},
   "source": [
    "### Question 7\n",
    "\n",
    "_Is your model able to perform equally well on captured pictures or a live camera stream when compared to testing on the dataset?_\n"
   ]
  },
  {
   "cell_type": "markdown",
   "metadata": {},
   "source": [
    "**Answer:**"
   ]
  },
  {
   "cell_type": "code",
   "execution_count": null,
   "metadata": {
    "collapsed": true
   },
   "outputs": [],
   "source": [
    "### Visualize the softmax probabilities here.\n",
    "### Feel free to use as many code cells as needed."
   ]
  },
  {
   "cell_type": "markdown",
   "metadata": {},
   "source": [
    "### Question 8\n",
    "\n",
    "*Use the model's softmax probabilities to visualize the **certainty** of its predictions, [`tf.nn.top_k`](https://www.tensorflow.org/versions/r0.11/api_docs/python/nn.html#top_k) could prove helpful here. Which predictions is the model certain of? Uncertain? If the model was incorrect in its initial prediction, does the correct prediction appear in the top k? (k should be 5 at most)*\n"
   ]
  },
  {
   "cell_type": "markdown",
   "metadata": {},
   "source": [
    "**Answer:**"
   ]
  },
  {
   "cell_type": "markdown",
   "metadata": {},
   "source": [
    "### Question 9\n",
    "_If necessary, provide documentation for how an interface was built for your model to load and classify newly-acquired images._\n"
   ]
  },
  {
   "cell_type": "markdown",
   "metadata": {},
   "source": [
    "**Answer:**"
   ]
  },
  {
   "cell_type": "markdown",
   "metadata": {},
   "source": [
    "> **Note**: Once you have completed all of the code implementations and successfully answered each question above, you may finalize your work by exporting the iPython Notebook as an HTML document. You can do this by using the menu above and navigating to  \\n\",\n",
    "    \"**File -> Download as -> HTML (.html)**. Include the finished document along with this notebook as your submission."
   ]
  },
  {
   "cell_type": "code",
   "execution_count": null,
   "metadata": {
    "collapsed": true
   },
   "outputs": [],
   "source": []
  }
 ],
 "metadata": {
  "anaconda-cloud": {},
  "kernelspec": {
   "display_name": "Python 3",
   "language": "python",
   "name": "python3"
  },
  "language_info": {
   "codemirror_mode": {
    "name": "ipython",
    "version": 3
   },
   "file_extension": ".py",
   "mimetype": "text/x-python",
   "name": "python",
   "nbconvert_exporter": "python",
   "pygments_lexer": "ipython3",
   "version": "3.5.2"
  }
 },
 "nbformat": 4,
 "nbformat_minor": 0
}
