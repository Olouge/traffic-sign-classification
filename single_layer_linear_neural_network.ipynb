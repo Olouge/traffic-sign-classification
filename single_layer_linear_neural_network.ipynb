{
 "cells": [
  {
   "cell_type": "markdown",
   "metadata": {},
   "source": [
    "# Self-Driving Car Engineer Nanodegree\n",
    "\n",
    "## Deep Learning\n",
    "\n",
    "## Project: Build a Traffic Sign Recognition Classifier\n",
    "\n",
    "In this notebook, a template is provided for you to implement your functionality in stages which is required to successfully complete this project. If additional code is required that cannot be included in the notebook, be sure that the Python code is successfully imported and included in your submission, if necessary. Sections that begin with **'Implementation'** in the header indicate where you should begin your implementation for your project. Note that some sections of implementation are optional, and will be marked with **'Optional'** in the header.\n",
    "\n",
    "In addition to implementing code, there will be questions that you must answer which relate to the project and your implementation. Each section where you will answer a question is preceded by a **'Question'** header. Carefully read each question and provide thorough answers in the following text boxes that begin with **'Answer:'**. Your project submission will be evaluated based on your answers to each of the questions and the implementation you provide.\n",
    "\n",
    ">**Note:** Code and Markdown cells can be executed using the **Shift + Enter** keyboard shortcut. In addition, Markdown cells can be edited by typically double-clicking the cell to enter edit mode."
   ]
  },
  {
   "cell_type": "markdown",
   "metadata": {},
   "source": [
    "---\n",
    "\n",
    "## Step 1: Dataset Exploration\n",
    "\n",
    "Visualize the German Traffic Signs Dataset. This is open ended, some suggestions include: plotting traffic signs images, plotting the count of each sign, etc. Be creative!\n",
    "\n",
    "\n",
    "The pickled data is a dictionary with 4 key/value pairs:\n",
    "\n",
    "- features -> the images pixel values, (width, height, channels)\n",
    "- labels -> the label of the traffic sign\n",
    "- sizes -> the original width and height of the image, (width, height)\n",
    "- coords -> coordinates of a bounding box around the sign in the image, (x1, y1, x2, y2). Based the original image (not the resized version)."
   ]
  },
  {
   "cell_type": "markdown",
   "metadata": {},
   "source": [
    "###### Introduction\n",
    "\n",
    "I am very new to using Matplotlib and just didn't have enough time to learn how to harness all of its power to visualize the types of things I wanted to. However, I've done my best with my limited knowledge and plotted images from my various datasets as you'll soon see below. I look forward to learning more of Matplotlib as I see tremendous value in being able to visualize data.\n",
    "\n",
    "To make things easy when visualizing the traffic signs, let's first print the traffic sign names as well as some additional metrics about the dataset."
   ]
  },
  {
   "cell_type": "code",
   "execution_count": 1,
   "metadata": {
    "collapsed": false
   },
   "outputs": [
    {
     "name": "stdout",
     "output_type": "stream",
     "text": [
      " \n",
      "One-Hot Encoded:             True\n",
      "Train/Validation Split %:    0.2\n",
      " \n",
      "Training size:               31367\n",
      "Validation size:             7842\n",
      "Testing size:                12630\n",
      "Predicting size:             13\n",
      "Total classes:               43\n",
      " \n",
      "Training orig shape:         (31367, 32, 32, 3)\n",
      "Training gray shape:         (31367, 32, 32)\n",
      "Training flat shape:         (31367, 1024)\n",
      " \n",
      "Validation orig shape:       (7842, 32, 32, 3)\n",
      "Validation gray shape:       (7842, 32, 32)\n",
      "Validation flat shape:       (7842, 1024)\n",
      " \n",
      "Testing orig shape:          (12630, 32, 32, 3)\n",
      "Testing gray shape:          (12630, 32, 32)\n",
      "Testing flat shape:          (12630, 1024)\n",
      " \n",
      "Predicting orig shape:       (13, 32, 32, 3)\n",
      "Predicting gray shape:       (13, 32, 32)\n",
      "Predicting flat shape:       (13, 1024)\n",
      " \n",
      "Training label shape:        (31367, 43)\n",
      "Validation flat label shape: (7842, 43)\n",
      "Testing gray label shape:    (12630, 43)\n",
      " \n",
      "Class counts:\n",
      " \n",
      "Sign names:\n",
      " \n",
      "  class - no. train - sign name\n",
      " \n",
      "  0 -  174 - Speed limit (20km/h)\n",
      "  1 -  1790 - Speed limit (30km/h)\n",
      "  2 -  1784 - Speed limit (50km/h)\n",
      "  3 -  1120 - Speed limit (60km/h)\n",
      "  4 -  1574 - Speed limit (70km/h)\n",
      "  5 -  1483 - Speed limit (80km/h)\n",
      "  6 -  345 - End of speed limit (80km/h)\n",
      "  7 -  1153 - Speed limit (100km/h)\n",
      "  8 -  1101 - Speed limit (120km/h)\n",
      "  9 -  1179 - No passing\n",
      "  10 -  1624 - No passing for vechiles over 3.5 metric tons\n",
      "  11 -  1059 - Right-of-way at the next intersection\n",
      "  12 -  1687 - Priority road\n",
      "  13 -  1733 - Yield\n",
      "  14 -  600 - Stop\n",
      "  15 -  520 - No vechiles\n",
      "  16 -  351 - Vechiles over 3.5 metric tons prohibited\n",
      "  17 -  883 - No entry\n",
      "  18 -  968 - General caution\n",
      "  19 -  165 - Dangerous curve to the left\n",
      "  20 -  293 - Dangerous curve to the right\n",
      "  21 -  266 - Double curve\n",
      "  22 -  306 - Bumpy road\n",
      "  23 -  408 - Slippery road\n",
      "  24 -  206 - Road narrows on the right\n",
      "  25 -  1194 - Road work\n",
      "  26 -  485 - Traffic signals\n",
      "  27 -  201 - Pedestrians\n",
      "  28 -  428 - Children crossing\n",
      "  29 -  207 - Bicycles crossing\n",
      "  30 -  349 - Beware of ice/snow\n",
      "  31 -  606 - Wild animals crossing\n",
      "  32 -  191 - End of all speed and passing limits\n",
      "  33 -  538 - Turn right ahead\n",
      "  34 -  343 - Turn left ahead\n",
      "  35 -  982 - Ahead only\n",
      "  36 -  328 - Go straight or right\n",
      "  37 -  161 - Go straight or left\n",
      "  38 -  1676 - Keep right\n",
      "  39 -  237 - Keep left\n",
      "  40 -  293 - Roundabout mandatory\n",
      "  41 -  189 - End of no passing\n",
      "  42 -  187 - End of no passing by vechiles over 3.5 metric tons\n",
      " \n"
     ]
    }
   ],
   "source": [
    "import numpy as np\n",
    "\n",
    "from datasets.german_traffic_signs import GermanTrafficSignDataset\n",
    "\n",
    "# NOTE I explain these two lines in greater details below\n",
    "data = GermanTrafficSignDataset(verbose=False)\n",
    "data.configure(one_hot=True, train_validate_split_percentage=0.2)\n",
    "\n",
    "print(data)"
   ]
  },
  {
   "cell_type": "markdown",
   "metadata": {},
   "source": [
    "### Sign Class Sample Distribution Visualizations"
   ]
  },
  {
   "cell_type": "code",
   "execution_count": 27,
   "metadata": {
    "collapsed": true
   },
   "outputs": [],
   "source": [
    "def plot_sample_class_distributions(samples, title):\n",
    "    label_count = collections.Counter(np.argmax(samples, axis=1))\n",
    "\n",
    "    labels, values = zip(*label_count.items())\n",
    "    indexes = np.arange(len(labels))\n",
    "\n",
    "    plt.bar(indexes, values, alpha=0.75)\n",
    "    plt.axis([0, 43, 0, np.max(values)+10])\n",
    "\n",
    "    plt.xlabel('Sign Class')\n",
    "    plt.ylabel('No. Traffic Signs')\n",
    "    plt.title(title)\n",
    "\n",
    "    plt.show()"
   ]
  },
  {
   "cell_type": "code",
   "execution_count": 29,
   "metadata": {
    "collapsed": false
   },
   "outputs": [
    {
     "data": {
      "image/png": "[encoded data removed]",
      "text/plain": [
       "<matplotlib.figure.Figure at 0x10fc42ba8>"
      ]
     },
     "metadata": {},
     "output_type": "display_data"
    }
   ],
   "source": [
    "plot_sample_class_distributions(samples=data.train_labels, title='Train Samples by Sign Class')"
   ]
  },
  {
   "cell_type": "code",
   "execution_count": 26,
   "metadata": {
    "collapsed": false
   },
   "outputs": [
    {
     "data": {
      "image/png": "[encoded data removed]",
      "text/plain": [
       "<matplotlib.figure.Figure at 0x10fd556d8>"
      ]
     },
     "metadata": {},
     "output_type": "display_data"
    }
   ],
   "source": [
    "plot_sample_class_distributions(samples=data.validate_labels, title='Validate Samples by Sign Class')"
   ]
  },
  {
   "cell_type": "code",
   "execution_count": 28,
   "metadata": {
    "collapsed": false
   },
   "outputs": [
    {
     "data": {
      "image/png": "[encoded data removed]",
      "text/plain": [
       "<matplotlib.figure.Figure at 0x135b080b8>"
      ]
     },
     "metadata": {},
     "output_type": "display_data"
    }
   ],
   "source": [
    "plot_sample_class_distributions(samples=data.test_labels, title='Test Samples by Sign Class')"
   ]
  },
  {
   "cell_type": "code",
   "execution_count": 30,
   "metadata": {
    "collapsed": false
   },
   "outputs": [
    {
     "data": {
      "image/png": "[encoded data removed]",
      "text/plain": [
       "<matplotlib.figure.Figure at 0x135d34e80>"
      ]
     },
     "metadata": {},
     "output_type": "display_data"
    }
   ],
   "source": [
    "plot_sample_class_distributions(samples=data.predict_labels, title='Predict Samples by Sign Class')"
   ]
  },
  {
   "cell_type": "markdown",
   "metadata": {},
   "source": [
    "### Traffic Sign Visualizations"
   ]
  },
  {
   "cell_type": "markdown",
   "metadata": {},
   "source": [
    "##### Training Set"
   ]
  },
  {
   "cell_type": "code",
   "execution_count": null,
   "metadata": {
    "collapsed": false
   },
   "outputs": [],
   "source": [
    "from plot.image_plotter import ImagePlotter\n",
    "\n",
    "rows = 4\n",
    "cols = 6\n",
    "sample_size = rows*cols\n",
    "\n",
    "perm = np.arange(data.num_training)\n",
    "np.random.shuffle(perm)\n",
    "\n",
    "sample_set = perm[:sample_size]\n",
    "print('Plotting training images {}'.format(','.join(map(str, sample_set))))\n",
    "\n",
    "ImagePlotter.plot_images(\n",
    "    images=data.train_orig[perm[:sample_size]], \n",
    "    labels=[np.argmax(label) for label in data.train_labels[perm[:sample_size]]], \n",
    "    rows=rows, columns=cols)"
   ]
  },
  {
   "cell_type": "markdown",
   "metadata": {},
   "source": [
    "##### Validation Set"
   ]
  },
  {
   "cell_type": "code",
   "execution_count": null,
   "metadata": {
    "collapsed": false
   },
   "outputs": [],
   "source": [
    "from plot.image_plotter import ImagePlotter\n",
    "\n",
    "rows = 4\n",
    "cols = 6\n",
    "sample_size = rows*cols\n",
    "\n",
    "perm = np.arange(data.num_validation)\n",
    "np.random.shuffle(perm)\n",
    "\n",
    "sample_set = perm[:sample_size]\n",
    "print('Plotting validation images {}'.format(','.join(map(str, sample_set))))\n",
    "\n",
    "ImagePlotter.plot_images(\n",
    "    images=data.validate_orig[perm[:sample_size]], \n",
    "    labels=[np.argmax(label) for label in data.validate_labels[perm[:sample_size]]], \n",
    "    rows=rows, columns=cols)"
   ]
  },
  {
   "cell_type": "markdown",
   "metadata": {},
   "source": [
    "##### Testing Set"
   ]
  },
  {
   "cell_type": "code",
   "execution_count": null,
   "metadata": {
    "collapsed": false
   },
   "outputs": [],
   "source": [
    "from plot.image_plotter import ImagePlotter\n",
    "\n",
    "rows = 4\n",
    "cols = 6\n",
    "sample_size = rows*cols\n",
    "\n",
    "perm = np.arange(data.num_testing)\n",
    "np.random.shuffle(perm)\n",
    "\n",
    "sample_set = perm[:sample_size]\n",
    "print('Plotting testing images {}'.format(','.join(map(str, sample_set))))\n",
    "\n",
    "ImagePlotter.plot_images(\n",
    "    images=data.test_orig[perm[:sample_size]], \n",
    "    labels=[np.argmax(label) for label in data.test_labels[perm[:sample_size]]], \n",
    "    rows=rows, columns=cols)"
   ]
  },
  {
   "cell_type": "markdown",
   "metadata": {},
   "source": [
    "----\n",
    "\n",
    "## Step 2: Design and Test a Model Architecture\n",
    "\n",
    "Design and implement a deep learning model that learns to recognize traffic signs. Train and test your model on the [German Traffic Sign Dataset](http://benchmark.ini.rub.de/?section=gtsrb&subsection=dataset).\n",
    "\n",
    "There are various aspects to consider when thinking about this problem:\n",
    "\n",
    "- Your model can be derived from a deep feedforward net or a deep convolutional network.\n",
    "- Play around preprocessing techniques (normalization, rgb to grayscale, etc)\n",
    "- Number of examples per label (some have more than others).\n",
    "- Generate fake data.\n",
    "\n",
    "Here is an example of a [published baseline model on this problem](http://yann.lecun.com/exdb/publis/pdf/sermanet-ijcnn-11.pdf). It's not required to be familiar with the approach used in the paper but, it's good practice to try to read papers like these."
   ]
  },
  {
   "cell_type": "markdown",
   "metadata": {},
   "source": [
    "### Implementation\n",
    "\n",
    "Use the code cell (or multiple code cells, if necessary) to implement the first step of your project. Once you have completed your implementation and are satisfied with the results, be sure to thoroughly answer the questions that follow."
   ]
  },
  {
   "cell_type": "markdown",
   "metadata": {},
   "source": [
    "### Question 1 \n",
    "\n",
    "_Describe the techniques used to preprocess the data._"
   ]
  },
  {
   "cell_type": "markdown",
   "metadata": {},
   "source": [
    "**Answer:**"
   ]
  },
  {
   "cell_type": "markdown",
   "metadata": {},
   "source": [
    "### Dataset preparation\n",
    "\n",
    "First, let's construct a fresh German Traffic Sign dataset. Nothing fancy goes on here but things are about to get awesome real quick. Stay tuned!\n",
    "\n",
    ">**NOTE** If you pass *verbose=True* to the GermanTrafficSignDataset, you'll see some logs printed informing us about what it's doing during the configuration process."
   ]
  },
  {
   "cell_type": "markdown",
   "metadata": {
    "collapsed": false
   },
   "source": [
    "```python\n",
    "from datasets.german_traffic_signs import GermanTrafficSignDataset\n",
    "\n",
    "data = GermanTrafficSignDataset(verbose=False)\n",
    "```"
   ]
  },
  {
   "cell_type": "markdown",
   "metadata": {},
   "source": [
    "Next, let's configure the dataset. We're going to ask it to set aside 20% of the training dataset for validation purposes when we're training our model. We're also going to ask it to One-Hot Encode the training, validation, test and prediction labels so we don't have to do any work later on.\n",
    "\n",
    ">In hindsight, I'd rather do this in Tensorflow as I found myself having to call *np.maxarg()* in several places to visualize and perform comparison operations."
   ]
  },
  {
   "cell_type": "markdown",
   "metadata": {
    "collapsed": false
   },
   "source": [
    "```python\n",
    "# Configure the dataset\n",
    "data.configure(one_hot=True, train_validate_split_percentage=0.20)\n",
    "```"
   ]
  },
  {
   "cell_type": "markdown",
   "metadata": {},
   "source": [
    "That was easy! Almost too easy, really. What's actually going on there?"
   ]
  },
  {
   "cell_type": "markdown",
   "metadata": {},
   "source": [
    "Let's print the documentation for the GermanTrafficSignDataset#configure method to uncover the magic and reveal the tecniques I used to preprocess the data."
   ]
  },
  {
   "cell_type": "code",
   "execution_count": null,
   "metadata": {
    "collapsed": false
   },
   "outputs": [],
   "source": [
    "from IPython.display import Image, display\n",
    "from IPython.core.display import HTML \n",
    "display(Image(url= \"doc/GermanTrafficSignDataset_configure_docs.png\"))"
   ]
  },
  {
   "cell_type": "markdown",
   "metadata": {},
   "source": [
    "### Question 2\n",
    "\n",
    "_Describe how you set up the training, validation and testing data for your model. If you generated additional data, why?_"
   ]
  },
  {
   "cell_type": "markdown",
   "metadata": {},
   "source": [
    "**Answer:**\n",
    "\n",
    "Inside of [data.__split_train_and_validation](https://github.com/matthewzimmer/traffic-sign-classification/blob/426c2467a1405ba6ba12c474ccd459f72d392c20/datasets/german_traffic_signs.py#L254-L267 \"data.__split_train_and_validation\") I leverage SKLearn's [train_test_split](http://scikit-learn.org/stable/modules/generated/sklearn.model_selection.train_test_split.html) convenience method. It's great because it automatically randomizes the validation set based on a predetermined percentage. I chose the traditional 80/20 split out of habit and felt that if I achieved a high accuracy with 80% of the training data, this should generalize well enough to the other 20% as well as the testing and prediction sets.\n",
    "\n",
    ">**NOTE:** I'm using a fixed random_state number so my testing is relatively predictable and consistent across runs."
   ]
  },
  {
   "cell_type": "markdown",
   "metadata": {},
   "source": [
    "```python\n",
    "def __split_train_and_validation(self):\n",
    "    \"\"\"\n",
    "    Get randomized datasets for training and validation\n",
    "    \"\"\"\n",
    "\n",
    "    self.train_orig, self.validate_orig, self.train_labels, self.validate_labels = train_test_split(\n",
    "        self.train_orig,\n",
    "        self.train_labels,\n",
    "        test_size=self.split_size,\n",
    "        random_state=832224)\n",
    "\n",
    "    print('Training features and labels randomized and split with train_test_split (validation % of training set: {})'.format(self.split_size))\n",
    "```"
   ]
  },
  {
   "cell_type": "markdown",
   "metadata": {},
   "source": [
    "You can also see it in github [here](https://github.com/matthewzimmer/traffic-sign-classification/blob/7e241e3289a6792cb6ebf2ff051995cdbbd0bdae/datasets/german_traffic_signs.py#L254-L267 \"here\")."
   ]
  },
  {
   "cell_type": "markdown",
   "metadata": {},
   "source": [
    "The second phase of splitting my data may be discovered inside of [data.__prepare_images](https://github.com/matthewzimmer/traffic-sign-classification/blob/7e241e3289a6792cb6ebf2ff051995cdbbd0bdae/datasets/german_traffic_signs.py#L278-L355). \n",
    "\n",
    "For convenience, here is the documentation for __prepare_images."
   ]
  },
  {
   "cell_type": "code",
   "execution_count": null,
   "metadata": {
    "collapsed": false
   },
   "outputs": [],
   "source": [
    "from IPython.display import Image, display\n",
    "from IPython.core.display import HTML \n",
    "display(Image(url= \"doc/GermanTrafficSignDataset___prepare_images_docs.png\"))"
   ]
  },
  {
   "cell_type": "markdown",
   "metadata": {},
   "source": [
    "Finally, let's print our instance of GermanTrafficSignDataset. It reveals a ton of information about the contents of the **data** variable such as the number and shape of items in each bucket and the traffic sign names corresponding to each label."
   ]
  },
  {
   "cell_type": "code",
   "execution_count": null,
   "metadata": {
    "collapsed": false
   },
   "outputs": [],
   "source": [
    "print(data)"
   ]
  },
  {
   "cell_type": "markdown",
   "metadata": {},
   "source": [
    "### Question 3\n",
    "\n",
    "_What does your final architecture look like? (Type of model, layers, sizes, connectivity, etc.)  For reference on how to build a deep neural network using TensorFlow, see [Deep Neural Network in TensorFlow\n",
    "](https://classroom.udacity.com/nanodegrees/nd013/parts/fbf77062-5703-404e-b60c-95b78b2f3f9e/modules/6df7ae49-c61c-4bb2-a23e-6527e69209ec/lessons/b516a270-8600-4f93-a0a3-20dfeabe5da6/concepts/83a3a2a2-a9bd-4b7b-95b0-eb924ab14432) from the classroom._\n"
   ]
  },
  {
   "cell_type": "markdown",
   "metadata": {},
   "source": [
    "**Answer:**\n",
    "\n",
    "The very first network I put together was a simple three layer linear neural network with a single hidden layer with 512 neurons inspired by the first TensorFlow lab we did in class. It allowed me to education and familiarize myself with Python, Numpy, Matplotlib and TensorFlow.\n",
    "\n",
    "> **NOTE** I've never coded in Python, Numpy, Jupyter Notebook, TensorFlow or Matplotlib until now so it took me longer than desired to get this far but I am satisfied with my first attempt and I am more comfortable now than I was when I first started.\n",
    "\n",
    "My final architecture is a simple three layer linear neural network with a single hidden layer with 256 neurons. After a bit of research, it appears the rule-of-thumb baseline for hidden layer neurons is to calculate the mean of the intput and output nurons but I squeezed about 3.5% better accuracy with 256 neurons plus it trains faster so I stuck with it.\n",
    "\n",
    "##### Framework\n",
    "\n",
    "I built a simple framework allowing me to rapidly test various hyper parameters to obtain the most optimal model to yield the highest accuracy against photos I took myself.\n",
    "\n",
    "Each implementation of BaseNeuralNetwork essentially needs to override two methods: *#fit* and *#predict*. I ultimately plan to implemente a Convolutional Neural Network. However, I am aware that Convnets will yield more accurate prediction the more layers you have but I wanted to truly grasp the fundamentals of Neural Networks, Gradient Descent optimizers, hyperparameter optimization, dataset splitting, trained model persistence and restoration to predict against later on (something we'd do in a production setting), and so much more."
   ]
  },
  {
   "cell_type": "markdown",
   "metadata": {},
   "source": [
    "##### Model Training Walkthrough Step-by-Step"
   ]
  },
  {
   "cell_type": "markdown",
   "metadata": {},
   "source": [
    "I've already described the steps necessary to prepare the dataset we'll be using to train the network above.\n",
    "\n",
    "Let's now define our hyper parameters. We will be feeding them into the network's configuration context next."
   ]
  },
  {
   "cell_type": "markdown",
   "metadata": {
    "collapsed": false
   },
   "source": [
    "```python\n",
    "from classifiers.linear.single_layer_linear import SingleLayerHyperParametersContext\n",
    "\n",
    "hyper_parameters = SingleLayerHyperParametersContext(\n",
    "    hidden_layer_neuron_count=256,\n",
    "    start_learning_rate=0.2, \n",
    "    epochs=300, \n",
    "    batch_size=20, \n",
    "    required_accuracy_improvement=25\n",
    ")\n",
    "```"
   ]
  },
  {
   "cell_type": "markdown",
   "metadata": {},
   "source": [
    "An instance of [ConfigurationContext](https://github.com/matthewzimmer/traffic-sign-classification/blob/be3f9451be99d17e5366f1117ae7e24fad7123d9/classifiers/base_neural_network.py#L40-L54) holds a reference to our GermanTrafficSignDataset instance variable and our SingleLayerHyperParametersContext instance variable.\n",
    "\n",
    ">**NOTE** This object is required by all _BaseNeuralNetwork_ implementations. Otherwise training will not occur."
   ]
  },
  {
   "cell_type": "markdown",
   "metadata": {
    "collapsed": true
   },
   "source": [
    "```python\n",
    "from classifiers.base_neural_network import ConfigurationContext\n",
    "\n",
    "config_context = ConfigurationContext(dataset=data, optimizer=ConfigurationContext.OPTIMIZER_TYPE_GRADIENT_DESCENT, hyper_parameters=hyper_parameters)\n",
    "```"
   ]
  },
  {
   "cell_type": "markdown",
   "metadata": {},
   "source": [
    "First thing's first, let's instantiate the SingleLayerLinear class."
   ]
  },
  {
   "cell_type": "markdown",
   "metadata": {
    "collapsed": false
   },
   "source": [
    "```python\n",
    "from classifiers.linear.single_layer_linear import SingleLayerLinear\n",
    "\n",
    "simple_nn = SingleLayerLinear()```"
   ]
  },
  {
   "cell_type": "markdown",
   "metadata": {},
   "source": [
    "Next, let's configure our network by passing in our ConfigurationContext instance variable we instantiated above.\n",
    "\n",
    "This is the principle entry point into all _BaseNeuralNetwork_ implementations. \n",
    "\n",
    ">**NOTE** The network will not function without a proper configuration context."
   ]
  },
  {
   "cell_type": "markdown",
   "metadata": {
    "collapsed": false
   },
   "source": [
    "```python\n",
    "simple_nn.configure(config_context)\n",
    "```"
   ]
  },
  {
   "cell_type": "markdown",
   "metadata": {},
   "source": [
    "To train the network, we call the *#generate* method. This could take anywhere from 10 minutes to several hours depending on hardware and hyperparameter settings.\n",
    "\n",
    ">**NOTE** *#configure* must be called first."
   ]
  },
  {
   "cell_type": "markdown",
   "metadata": {
    "collapsed": false
   },
   "source": [
    "```python\n",
    "simple_nn.generate()\n",
    "```"
   ]
  },
  {
   "cell_type": "markdown",
   "metadata": {},
   "source": [
    "##### Prediction Code Example"
   ]
  },
  {
   "cell_type": "markdown",
   "metadata": {},
   "source": [
    "To predict against a previously trained network, we call the *BaseNueralNetwork#predict* method passing it the name of a previously trained model."
   ]
  },
  {
   "cell_type": "markdown",
   "metadata": {
    "collapsed": false
   },
   "source": [
    "```python\n",
    "from classifiers.linear.single_layer_linear import SingleLayerLinear\n",
    "from datasets.german_traffic_signs import GermanTrafficSignDataset\n",
    "\n",
    "# I put my captured photos inside of GermanTrafficSignDataset so we need \n",
    "# inject the predict_flat images into #predict.\n",
    "data = GermanTrafficSignDataset()\n",
    "data.configure(one_hot=True)\n",
    "\n",
    "simple_nn = SingleLayerLinear()\n",
    "simple_nn.configure(ConfigurationContext(dataset=data, hyper_parameters=SingleLayerHyperParametersContext()))\n",
    "simple_nn.predict(images=data.predict_flat, labels=data.predict_labels, model_name='SingleLayerLinear_e536a998-bc7c-461c-8b2a-fc278de569d8_best_validation_0.20S_0.2000LR_300E_20B_256HN')\n",
    "```"
   ]
  },
  {
   "cell_type": "markdown",
   "metadata": {},
   "source": [
    "##### SingleLayerLinear Class Definition\n",
    "\n",
    "Because a lot of my code is hidden inside my framework, here's a print out of the class the does the modeling and predicting."
   ]
  },
  {
   "cell_type": "markdown",
   "metadata": {},
   "source": [
    "```python\n",
    "import tensorflow as tf\n",
    "import numpy as np\n",
    "import math\n",
    "import os\n",
    "\n",
    "from classifiers.base_neural_network import BaseNeuralNetwork, HyperParametersContext, ConfigurationContext\n",
    "\n",
    "\n",
    "class SingleLayerHyperParametersContext(HyperParametersContext):\n",
    "    def __init__(\n",
    "            self,\n",
    "            hidden_layer_neuron_count=256,\n",
    "            **kwargs\n",
    "    ):\n",
    "        \"\"\"\n",
    "\n",
    "        :param hidden_layer_neuron_count: number of neurons for the hidden layer\n",
    "        :param kwargs: Arguments to pass into to super constructor\n",
    "        \"\"\"\n",
    "        super(SingleLayerHyperParametersContext, self).__init__(**kwargs)\n",
    "        self.hidden_layer_neuron_count = hidden_layer_neuron_count\n",
    "\n",
    "\n",
    "class SingleLayerLinear(BaseNeuralNetwork):\n",
    "    def fit(self):\n",
    "        data = self.config.data\n",
    "        hyper_parameters = self.config.hyper_parameters\n",
    "\n",
    "        self.__build_graph()\n",
    "\n",
    "        features = self.features\n",
    "        labels = self.labels\n",
    "        logits = self.logits\n",
    "\n",
    "        # Passing global_step to minimize() will increment it at each step.\n",
    "        global_step = tf.Variable(0, trainable=False)\n",
    "\n",
    "        # Define loss\n",
    "        loss = tf.reduce_mean(tf.nn.softmax_cross_entropy_with_logits(logits, labels))\n",
    "\n",
    "        # Configure optimizer\n",
    "        if self.config.optimizer_type == ConfigurationContext.OPTIMIZER_TYPE_GRADIENT_DESCENT:\n",
    "            # decayed_learning_rate = learning_rate * decay_rate ^ (global_step / decay_steps)\n",
    "            learning_rate = tf.train.exponential_decay(learning_rate=hyper_parameters.start_learning_rate,\n",
    "                                                       global_step=global_step,\n",
    "                                                       decay_steps=75000, decay_rate=0.96, staircase=True)\n",
    "            optimizer = tf.train.GradientDescentOptimizer(learning_rate=learning_rate).minimize(loss,               global_step=global_step)\n",
    "        elif self.config.optimizer_type == ConfigurationContext.OPTIMIZER_TYPE_ADAGRAD:\n",
    "            learning_rate = tf.constant(hyper_parameters.start_learning_rate)\n",
    "            optimizer = tf.train.AdagradOptimizer(learning_rate=learning_rate).minimize(loss)\n",
    "\n",
    "        batch_size = hyper_parameters.batch_size\n",
    "        training_epochs = hyper_parameters.epochs\n",
    "        batch_count = int(math.ceil(data.num_training / batch_size))\n",
    "        display_step = 1\n",
    "\n",
    "        with tf.Session() as sess:\n",
    "            sess.run(tf.initialize_all_variables())\n",
    "            \n",
    "            valid_feed_dict = {features: data.validate_flat, labels: data.validate_labels}\n",
    "            \n",
    "            for epoch in range(training_epochs):\n",
    "                # Loop over all batches\n",
    "                for i in range(batch_count):\n",
    "                    x_batch, y_batch, batch_start, batch_end = data.next_batch(batch_size)\n",
    "                    # Run optimization op (backprop) and loss op (to get loss value)\n",
    "                    sess.run(optimizer, feed_dict={features: x_batch, labels: y_batch})\n",
    "\n",
    "                # Display logs per epoch step and very last batch iteration\n",
    "                if epoch % display_step == 0 or (epoch == (training_epochs - 1) and i == (batch_count - 1)):\n",
    "                    total_iterations = (epoch + 1)\n",
    "\n",
    "                    # Calculate accuracy\n",
    "                    correct_prediction = tf.equal(tf.argmax(logits, 1), tf.argmax(labels, 1))\n",
    "                    accuracy = tf.reduce_mean(tf.cast(correct_prediction, \"float\"))\n",
    "\n",
    "                    saved = self.evaluate_accuracy(sess, accuracy.eval(valid_feed_dict), total_iterations)\n",
    "\n",
    "                if total_iterations - self.last_improvement > hyper_parameters.required_accuracy_improvement:\n",
    "                    msg = 'No improvement found in a while, stopping optimization after {} iterations. Final accuracy, {}% at iteration {}.'.format(\n",
    "                        total_iterations, str(int(self.validate_accuracy * 100)), self.last_improvement)\n",
    "\n",
    "                    print(msg)\n",
    "\n",
    "                    break\n",
    "\n",
    "            print(\"Optimization Finished!\")\n",
    "\n",
    "    def predict(self, images, true_labels, model_name):\n",
    "        self.__build_graph()\n",
    "\n",
    "        features = self.features\n",
    "        labels = self.labels\n",
    "        logits = self.logits\n",
    "\n",
    "        with tf.Session() as sess:\n",
    "            self.saver = tf.train.Saver()\n",
    "            self.saver.restore(sess, self.save_dir + '/' + model_name)\n",
    "\n",
    "            # Number of images.\n",
    "            num_images = len(images)\n",
    "\n",
    "            # Allocate an array for the predicted classes which\n",
    "            # will be calculated in batches and filled into this array.\n",
    "            cls_pred = np.zeros(shape=num_images, dtype=np.int)\n",
    "\n",
    "            feed_dict = {features: images, labels: true_labels}\n",
    "\n",
    "            y_pred_cls = tf.argmax(logits, dimension=1)\n",
    "            cls_pred = sess.run(y_pred_cls, feed_dict=feed_dict)\n",
    "\n",
    "            # Calculate accuracy\n",
    "            correct_prediction = tf.equal(tf.argmax(logits, 1), tf.argmax(labels, 1))\n",
    "            accuracy = tf.reduce_mean(tf.cast(correct_prediction, \"float\"))\n",
    "\n",
    "            predictions = tf.cast(correct_prediction.eval(feed_dict), \"bool\").eval()\n",
    "            print(predictions)\n",
    "\n",
    "            correct = (np.argmax(true_labels, axis=1) == cls_pred)\n",
    "\n",
    "            print(\"  predict accuracy: {:004f}%\".format(accuracy.eval(feed_dict) * 100))\n",
    "\n",
    "            return correct, cls_pred\n",
    "\n",
    "    def __build_graph(self):\n",
    "        data = self.config.data\n",
    "        hyper_parameters = self.config.hyper_parameters\n",
    "\n",
    "        image_size = data.train_flat.shape[1]\n",
    "        num_classes = data.num_classes\n",
    "\n",
    "        n_hidden_layer = hyper_parameters.hidden_layer_neuron_count\n",
    "\n",
    "        # Store layers weight & bias\n",
    "        self.weight_variables = {\n",
    "            'hidden_layer': tf.Variable(tf.random_normal([image_size, n_hidden_layer]), name='weights_hidden_layer'),\n",
    "            'out': tf.Variable(tf.random_normal([n_hidden_layer, num_classes]), name='weights_out')\n",
    "        }\n",
    "        self.bias_variables = {\n",
    "            'hidden_layer': tf.Variable(tf.zeros([n_hidden_layer]), name='biases_hidden_layer'),\n",
    "            'out': tf.Variable(tf.zeros([num_classes]), name='biases_out')\n",
    "        }\n",
    "\n",
    "        self.features = tf.placeholder(\"float\", [None, image_size])\n",
    "        self.labels = tf.placeholder(\"float\", [None, num_classes])\n",
    "\n",
    "        # Hidden layer with RELU activation\n",
    "        layer_1 = tf.add(tf.matmul(self.features, self.weight_variables['hidden_layer']),\n",
    "                         self.bias_variables['hidden_layer'])\n",
    "        layer_1 = tf.nn.relu(layer_1)\n",
    "\n",
    "        # Output layer with linear activation\n",
    "        self.logits = tf.matmul(layer_1, self.weight_variables['out']) + self.bias_variables['out']\n",
    "\n",
    "\n",
    "```"
   ]
  },
  {
   "cell_type": "markdown",
   "metadata": {},
   "source": [
    "#### Train the model"
   ]
  },
  {
   "cell_type": "markdown",
   "metadata": {},
   "source": [
    ">**NOTE** We've already instantiated our dataset in the beginning of this notebook so I've printed Markdown for demonstration purposes."
   ]
  },
  {
   "cell_type": "markdown",
   "metadata": {
    "collapsed": false
   },
   "source": [
    "```python\n",
    "from datasets.german_traffic_signs import GermanTrafficSignDataset\n",
    "\n",
    "data = GermanTrafficSignDataset()\n",
    "\n",
    "# Configure the dataset\n",
    "data.configure(one_hot=True, train_validate_split_percentage=0.20)\n",
    "```"
   ]
  },
  {
   "cell_type": "code",
   "execution_count": null,
   "metadata": {
    "collapsed": false
   },
   "outputs": [],
   "source": [
    "from classifiers.linear.single_layer_linear import SingleLayerHyperParametersContext\n",
    "\n",
    "hyper_parameters = SingleLayerHyperParametersContext(\n",
    "    hidden_layer_neuron_count=256, # mean of input and output neurons\n",
    "    start_learning_rate=0.2, \n",
    "    epochs=300, \n",
    "    batch_size=20, \n",
    "    required_accuracy_improvement=25\n",
    ")"
   ]
  },
  {
   "cell_type": "code",
   "execution_count": null,
   "metadata": {
    "collapsed": false
   },
   "outputs": [],
   "source": [
    "from classifiers.base_neural_network import ConfigurationContext\n",
    "\n",
    "config = ConfigurationContext(dataset=data, \n",
    "                              optimizer_type=ConfigurationContext.OPTIMIZER_TYPE_GRADIENT_DESCENT, \n",
    "                              hyper_parameters=hyper_parameters)"
   ]
  },
  {
   "cell_type": "code",
   "execution_count": null,
   "metadata": {
    "collapsed": false
   },
   "outputs": [],
   "source": [
    "from classifiers.linear.single_layer_linear import SingleLayerLinear\n",
    "\n",
    "simple_nn = SingleLayerLinear()\n",
    "simple_nn.configure(config)"
   ]
  },
  {
   "cell_type": "markdown",
   "metadata": {},
   "source": [
    "Uncomment the next line if you wish to train the network on your machine. \n",
    "\n",
    ">**WARNING** You may want to tune the HyperParametersContext's batch_size above depending on your computer hardware."
   ]
  },
  {
   "cell_type": "code",
   "execution_count": null,
   "metadata": {
    "collapsed": false
   },
   "outputs": [],
   "source": [
    "# simple_nn.generate()"
   ]
  },
  {
   "cell_type": "markdown",
   "metadata": {},
   "source": [
    "```python\n",
    "Model fit started.\n",
    "\n",
    "\n",
    "===========> [FIT MODEL] Started at 01:26:31.891089\n",
    "\n",
    "\n",
    "Epoch: 0001 of 0300\n",
    "  loss:               46.229114532\n",
    "  batch accuracy:     0.6\n",
    "  train accuracy:     0.337839\n",
    "  validate accuracy:  0.320454\n",
    "  test accuracy:      0.292241\n",
    "  predict accuracy:   0.307692\n",
    "  batch size:         20\n",
    "  learning rate:      0.2\n",
    "\n",
    "32.05% accuracy\n",
    "\n",
    "...\n",
    "\n",
    "Epoch: 0073 of 0300\n",
    "  loss:               2.696399927\n",
    "  batch accuracy:     1.0\n",
    "  train accuracy:     0.880448\n",
    "  validate accuracy:  0.848891\n",
    "  test accuracy:      0.712906\n",
    "  predict accuracy:   0.769231\n",
    "  batch size:         20\n",
    "  learning rate:      0.192\n",
    "  \n",
    "...\n",
    "\n",
    "\n",
    "Epoch: 0185 of 0300\n",
    "  loss:               3.191812277\n",
    "  batch accuracy:     1.0\n",
    "  train accuracy:     0.953773\n",
    "  validate accuracy:  0.911502\n",
    "  test accuracy:      0.797625\n",
    "  predict accuracy:   0.769231\n",
    "  batch size:         20\n",
    "  learning rate:      0.176947\n",
    "\n",
    "No improvement found in a while, stopping optimization after 185 iterations. Final accuracy, 91% at iteration 159.\n",
    "Optimization Finished!\n",
    "\n",
    "\n",
    "===========> [FIT MODEL] Finished at 01:42:45.742726\n",
    "\n",
    "===========> [FIT MODEL] Wall time: 0:16:13.851637\n",
    "\n",
    "Model fit complete!\n",
    "The best validation accuracy achieved was 92.04% at iteration 159.\n",
    "Network serialized to the data directory.\n",
    "The most accurate validation model has been serialized to the trained models directory.\n",
    "\n",
    "└[∵┌]   └[ ∵ ]┘   [┐∵]┘   └[ ∵ ]┘   └[∵┌]   └[ ∵ ]┘   [┐∵]┘   └[ ∵ ]┘   └[∵┌]\n",
    "```"
   ]
  },
  {
   "cell_type": "markdown",
   "metadata": {},
   "source": [
    "### Best Validation Accuracy: 93.71%\n",
    "\n",
    "Here are the hyperparameters used to achieve this accuracy and the saved model name corresponding to the file generated by tf.train.Saver#save.\n",
    "\n",
    "##### Hyperparameters\n",
    "\n",
    "**EPOCHS** 300\n",
    "\n",
    "**BATCH SIZE** 20\n",
    "\n",
    "**HIDDEN NEURONS** 256\n",
    "\n",
    "**START LR** 0.20\n",
    "\n",
    "**FINAL DECAYED LR** 0.194642\n",
    "\n",
    "**REQUIRED ACCURACY IMPROVEMENT** 50\n",
    "\n",
    "**BEST EPOCH** 286\n",
    "\n",
    "\n",
    "##### Best Validation Accuracy Model\n",
    "\n",
    "SingleLayerLinear_e536a998-bc7c-461c-8b2a-fc278de569d8_best_validation_0.20S_0.2000LR_300E_20B_256HN"
   ]
  },
  {
   "cell_type": "markdown",
   "metadata": {},
   "source": [
    "### 2nd Best Validation Accuracy: 92.04%\n",
    "\n",
    "Here are the hyperparameters used to achieve this accuracy and the saved model name corresponding to the file generated by tf.train.Saver#save.\n",
    "\n",
    "##### Hyperparameters\n",
    "\n",
    "**EPOCHS** 300\n",
    "\n",
    "**BATCH SIZE** 20\n",
    "\n",
    "**HIDDEN NEURONS** 256\n",
    "\n",
    "**START LR** 0.20\n",
    "\n",
    "**FINAL DECAYED LR** 0.176947\n",
    "\n",
    "**REQUIRED ACCURACY IMPROVEMENT** 25\n",
    "\n",
    "**BEST EPOCH** 159\n",
    "\n",
    "\n",
    "##### 2nd Best Validation Accuracy Model\n",
    "\n",
    "SingleLayerLinear_bc29549c-d187-4b9c-9a65-3de6c5f2310c_best_validation_0.20S_0.2000LR_300E_20B"
   ]
  },
  {
   "cell_type": "markdown",
   "metadata": {},
   "source": [
    "As you can see, the biggest difference between those two models is the amount of time it took to train. The second model took only 16 minutes to train. The first model took about 30 minutes and only achieved a little over 1.5%. They both have similar accuracies for the test and prediction images."
   ]
  },
  {
   "cell_type": "markdown",
   "metadata": {},
   "source": [
    "### Question 4\n",
    "\n",
    "_How did you train your model? (Type of optimizer, batch size, epochs, hyperparameters, etc.)_\n"
   ]
  },
  {
   "cell_type": "markdown",
   "metadata": {},
   "source": [
    "**Answer:**\n",
    "\n",
    "##### Optimizer\n",
    "\n",
    "I used the *GradientDescentOptimizer* coupled with a decayed_learning_rate over time via **tf.train.exponential_decay**. The intial learning rate was *0.2*, decay_steps of *75000*, decay_rate of *0.96*, and staircase was *True*.\n",
    "\n",
    "I also incorporated the option to use the *Adagrad* optimizer (ConfigurationContext argument) but after running it for the first time with similar hyperparameters, it got to aroudn 84% accuracy at 200 epochs so my model was never saved. \n",
    "\n",
    "I have a miniumum required validation accuracy of 85% that must be reached before I save the trained model. Anything less is unacceptable.\n",
    "\n",
    "\n",
    "##### Batch Size\n",
    "\n",
    "I switched between a batch size of 20 and 32. I didn't see much different to be quite honest. I know that I must specify a smaller batch size when I'm using a GPU with limited memory resources (for example, my 650M laptop GPU is compute level 3 with 1 GB of RAM so I'd likely use 20). I read that a good rule of thumb is to choose 32, 64 or 128 as a batch size depending on hardware resources.\n",
    "\n",
    "\n",
    "##### Epochs\n",
    "\n",
    "The model with the best validation accuracy had 300 epochs but I've trained a quality model with 200 epochs in half the time. \n",
    "\n",
    "I implemented a safety net where, if I don't see an improvement after *n* epochs after achieving the best validation accuracy over 85%, I break out of the epoch loop and call it a day.\n",
    "\n",
    "\n",
    "##### Hidden Layer Neurons\n",
    "\n",
    "My single hidden layer has 256 neurons.\n",
    "\n",
    "I also played around with 512 but haven't seen much improvement in increasing this number."
   ]
  },
  {
   "cell_type": "markdown",
   "metadata": {},
   "source": [
    "### Question 5\n",
    "\n",
    "\n",
    "_What approach did you take in coming up with a solution to this problem?_"
   ]
  },
  {
   "cell_type": "markdown",
   "metadata": {},
   "source": [
    "**Answer:**\n",
    "\n",
    "I stuck to my guns and approached my solution the way I've been writing software for well over a decade now. I took a top-down approach by architecting a framework allowing me to visualize the various components necessary to train a network, persist the best model data, restore the best model data and predict arbitrary unseen images. By doing this I was able to present to you two different trained models and compare the two side-by-side. My notebook should also be easier to read and understand what's going on as well as allow anyone to easily play around with various hyperparameters to test the network's integrity. That was my goal anyway.\n",
    "\n",
    "I started first by creating the GermanTrafficSignsDataset class because this was the most critical piece needed by all layers of the framework as well as this notebook. Once I had the dataset, I was able to visualize the signs in Matplotlib and get a feel for the type of images I was working with.\n",
    "\n",
    "I then implemented BaseNeuralNetwork, HyperParametersContext and ConfigurationContext as they were the first-class objects necessary to inject the various dependencies into the network.\n",
    "\n",
    "Once the foundation was laid out, I immediately implementing SingleLayerLinear#fit in preparation to train the network.\n",
    "\n",
    "All while I was coding this up, I leveraged two test files inside the */tests* directory:\n",
    "\n",
    "**german_traffic_sign_tests.py** - I wrote a few tests to ensure the dataset looked and functioned as I expected it to anytime I had to make changes to the dataset.\n",
    "\n",
    "**single_layer_linear_tests.py** - This was more for testing my SingleLayerLinear#fit algorithm because most of the heavy lifting is done in GermanTrafficSignsDataset#configure to prepare the data for network training. Therefore, this file allowed me to tune the hyperparameters during training and it allowed me to invoke SingleLayerLinear#predict to predict the labels for my generated images.\n",
    "\n",
    ">**NOTE** If I were familiar with Unit Test best practives for Python, I would have stuck to those. But instead, I present a minimalistic testing layer."
   ]
  },
  {
   "cell_type": "markdown",
   "metadata": {},
   "source": [
    "---\n",
    "\n",
    "## Step 3: Test a Model on New Images\n",
    "\n",
    "Take several pictures of traffic signs that you find on the web or around you (at least five), and run them through your classifier on your computer to produce example results. The classifier might not recognize some local signs but it could prove interesting nonetheless.\n",
    "\n",
    "You may find `signnames.csv` useful as it contains mappings from the class id (integer) to the actual sign name."
   ]
  },
  {
   "cell_type": "code",
   "execution_count": null,
   "metadata": {
    "collapsed": false
   },
   "outputs": [],
   "source": [
    "### Load the images and plot them here.\n",
    "### Feel free to use as many code cells as needed.\n",
    "\n",
    "data = GermanTrafficSignDataset()\n",
    "data.configure(one_hot=True, train_validate_split_percentage=0.2)\n",
    "\n",
    "# best_accuracy_model_name = 'SingleLayerLinear_e536a998-bc7c-461c-8b2a-fc278de569d8_best_validation_0.20S_0.2000LR_300E_20B_256HN'\n",
    "best_accuracy_model_name = 'SingleLayerLinear_bc29549c-d187-4b9c-9a65-3de6c5f2310c_best_validation_0.20S_0.2000LR_300E_20B'\n",
    "\n",
    "print('')\n",
    "print('Prediction Accuracy for {}'.format(best_accuracy_model_name))\n",
    "\n",
    "simple_nn = SingleLayerLinear()\n",
    "simple_nn.configure(ConfigurationContext(dataset=data, hyper_parameters=SingleLayerHyperParametersContext(hidden_layer_neuron_count=256)))\n",
    "correct, predicted = simple_nn.predict(data.predict_flat, data.predict_labels, best_accuracy_model_name)\n",
    "\n",
    "print(correct)\n",
    "print(predicted)"
   ]
  },
  {
   "cell_type": "markdown",
   "metadata": {},
   "source": [
    "##### My Prediction Set"
   ]
  },
  {
   "cell_type": "code",
   "execution_count": null,
   "metadata": {
    "collapsed": false
   },
   "outputs": [],
   "source": [
    "from plot.image_plotter import ImagePlotter\n",
    "import math\n",
    "\n",
    "rows = 2\n",
    "cols = 6\n",
    "sample_size = rows*cols\n",
    "\n",
    "# T: true class\n",
    "# P: predicted class\n",
    "\n",
    "ImagePlotter.plot_images(\n",
    "    images=data.predict_orig[:sample_size], \n",
    "    labels=np.argmax(data.predict_labels[:12], axis=1),\n",
    "    cls_pred=predicted,\n",
    "    rows=rows, columns=cols)"
   ]
  },
  {
   "cell_type": "markdown",
   "metadata": {},
   "source": [
    "Notice how the two \"24\" signs were predicted incorrectly. I can't quite put my finger on this one. \n",
    "\n",
    "Finally, notice how my \"Dead End\" sign which I classified as \"12 - Priority road\" was predicted as \"5 - Speed Limit (80km/h)\". I expected this to predict poorly.\n",
    "\n",
    "All 10 of my other signs were predicted accurately."
   ]
  },
  {
   "cell_type": "markdown",
   "metadata": {},
   "source": [
    "### Question 6\n",
    "\n",
    "_Choose five candidate images of traffic signs and provide them in the report. Are there any particular qualities of the image(s) that might make classification difficult? It would be helpful to plot the images in the notebook._\n",
    "\n"
   ]
  },
  {
   "cell_type": "markdown",
   "metadata": {},
   "source": [
    "**Answer:**"
   ]
  },
  {
   "cell_type": "code",
   "execution_count": null,
   "metadata": {
    "collapsed": false
   },
   "outputs": [],
   "source": [
    "from IPython.display import Image, display\n",
    "from IPython.core.display import HTML \n",
    "display(Image(url= \"doc/odd_candidate_images.png\"))"
   ]
  },
  {
   "cell_type": "markdown",
   "metadata": {},
   "source": [
    "From left to right.\n",
    "\n",
    "**4** - This is supposed to be a speed limit sign of 70 km/h but it's extremely hard to identify.\n",
    "\n",
    "**25** - This is a road work sign, however, it is extremely blurry, very noisy and skewed beyond recognition.\n",
    "\n",
    "**10** - This is supposed to be a \"No passing for vechiles over 3.5 metric tons\" sign. I chose this one because you I can see it mistakenly being classified as \"No passing\" sign if there were several jittered \"No passing\" images in the network.\n",
    "\n",
    "**38** - Another example of an image that is almost identical to the first one. It's supposed to be a \"keep right\" sign but not apparent. This is one of those cases where I can see the network having a hard time finding confidence in its prediction.\n",
    "\n",
    "**2** - This one is cool because it appears to have duct tape or a receipt taped to it going through three key pieces of the image: the red stripe, the white background and the black letters. This will significantly effect the weights compared to other signs, however, the 5 is clearly visible so I have a feeling it will classify accurately."
   ]
  },
  {
   "cell_type": "markdown",
   "metadata": {},
   "source": [
    "### Question 7\n",
    "\n",
    "_Is your model able to perform equally well on captured pictures or a live camera stream when compared to testing on the dataset?_\n"
   ]
  },
  {
   "cell_type": "markdown",
   "metadata": {},
   "source": [
    "**Answer:**\n",
    "\n",
    "Yes*-ish*.\n",
    "\n",
    "For my best model, I was able to achieve 100% accuracy for the 5 captured pictures of german traffic signs I pulled from Google Images. \n",
    "\n",
    "Early on in my model architecture phase, this model predicted 80% accurately. But after adding some padding to one of my images, it predicted well again bringing it to 100%. The padding seemed to be the key there which makes sense because that's what the network was trained to see. After a bit more tuning, the padding was no longer a factor; it predicts well with and without padding.\n",
    "\n",
    "When I introduced two stop signs and a dead end sign (classified as *12 - Priority Road*) taken with my camera, I was able to achieve 75% accuracy for all 13 images for this model; the dead end sign was obviously not in the training set so it couldn't possible classify it properly."
   ]
  },
  {
   "cell_type": "code",
   "execution_count": null,
   "metadata": {
    "collapsed": true
   },
   "outputs": [],
   "source": [
    "### Visualize the softmax probabilities here.\n",
    "### Feel free to use as many code cells as needed."
   ]
  },
  {
   "cell_type": "markdown",
   "metadata": {},
   "source": [
    ">At this time I only know how to visualize images and I just *barely* slapped together that bar graph above. I would love it if you could provide me with feedback to enlighten me how I could best visualize this information. That would be extremely helpful for me for the next project(s). \n",
    "\n",
    ">Thank you."
   ]
  },
  {
   "cell_type": "markdown",
   "metadata": {},
   "source": [
    "### Question 8\n",
    "\n",
    "*Use the model's softmax probabilities to visualize the **certainty** of its predictions, [`tf.nn.top_k`](https://www.tensorflow.org/versions/r0.11/api_docs/python/nn.html#top_k) could prove helpful here. Which predictions is the model certain of? Uncertain? If the model was incorrect in its initial prediction, does the correct prediction appear in the top k? (k should be 5 at most)*\n"
   ]
  },
  {
   "cell_type": "markdown",
   "metadata": {},
   "source": [
    "**Answer:**\n",
    "\n",
    ">I spent several hours trying to answer this question, however, tf.nn.top_k doesn't seem to be well explained in the public domain. I also couldn't find where it was covered in class.\n",
    "\n",
    ">As a result, in an effort to submit my project on time knowing there's room for improvement, I would love if you could provide me with feedback that will help me understand how to answer this question.\n",
    "\n",
    ">Thank you."
   ]
  },
  {
   "cell_type": "markdown",
   "metadata": {},
   "source": [
    "### Question 9\n",
    "_If necessary, provide documentation for how an interface was built for your model to load and classify newly-acquired images._\n"
   ]
  },
  {
   "cell_type": "markdown",
   "metadata": {},
   "source": [
    "**Answer:**\n",
    "\n",
    "I've already described my architecture in great detail above but here is a summary of the iterface.\n",
    "\n",
    "**SingleLayerLinear#fit** trains the model printing accuracy metrics as it learns and saves the TensorFlow model variables for the best validation accuracy at every iteration. It only saves if it is the first time meeting or exceeding 85% validation accuracy or the latest iteration's validation accuracy is better then the previously saved accuracy model. \n",
    "\n",
    "**SingleLayerLinear#predict** takes in the name of a checkpoint, restores it to assign the weights and biases tf.Variables and then measures the accuracy against the images I personally took.\n",
    "\n",
    ">**NOTE** I am using [tf.train.Saver](https://www.tensorflow.org/versions/r0.11/api_docs/python/state_ops.html#Saver)#save in *#fit* and tf.train.Saver#restore in *#predict* to save and restore my trained model."
   ]
  },
  {
   "cell_type": "markdown",
   "metadata": {},
   "source": [
    "> **Note**: Once you have completed all of the code implementations and successfully answered each question above, you may finalize your work by exporting the iPython Notebook as an HTML document. You can do this by using the menu above and navigating to  \\n\",\n",
    "    \"**File -> Download as -> HTML (.html)**. Include the finished document along with this notebook as your submission."
   ]
  }
 ],
 "metadata": {
  "anaconda-cloud": {},
  "kernelspec": {
   "display_name": "Python 3",
   "language": "python",
   "name": "python3"
  },
  "language_info": {
   "codemirror_mode": {
    "name": "ipython",
    "version": 3
   },
   "file_extension": ".py",
   "mimetype": "text/x-python",
   "name": "python",
   "nbconvert_exporter": "python",
   "pygments_lexer": "ipython3",
   "version": "3.5.2"
  }
 },
 "nbformat": 4,
 "nbformat_minor": 0
}
